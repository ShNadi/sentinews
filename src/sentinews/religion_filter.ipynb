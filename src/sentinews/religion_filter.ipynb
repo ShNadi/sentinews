{
 "cells": [
  {
   "cell_type": "code",
   "execution_count": 2,
   "metadata": {},
   "outputs": [],
   "source": [
    "import pandas as pd\n",
    "df = pd.read_csv('outNL_negativity_sentiment.csv')\n",
    "# df.to_excel('outgroups_negativity_sentiment.xlsx', index=False)\n"
   ]
  },
  {
   "cell_type": "code",
   "execution_count": 3,
   "metadata": {},
   "outputs": [],
   "source": [
    "df_nu = df[df['doctype']=='nu.nl']\n",
    "df_geen = df[df['doctype']=='geenstijl.nl']"
   ]
  },
  {
   "cell_type": "code",
   "execution_count": 4,
   "metadata": {},
   "outputs": [
    {
     "name": "stdout",
     "output_type": "stream",
     "text": [
      "mean nu:  2.781314525798275\n",
      "min nu:  1.5360199767784042\n",
      "max nu:  5.612810073811331\n"
     ]
    }
   ],
   "source": [
    "print(\"mean nu: \", df_nu['negativity_score'].mean())\n",
    "print(\"min nu: \", df_nu['negativity_score'].min())\n",
    "print(\"max nu: \", df_nu['negativity_score'].max())"
   ]
  },
  {
   "cell_type": "code",
   "execution_count": 5,
   "metadata": {},
   "outputs": [
    {
     "name": "stdout",
     "output_type": "stream",
     "text": [
      "mean geen:  3.498375738947916\n",
      "min geen:  0.7894885057888964\n",
      "max geen:  13.17381343098334\n"
     ]
    }
   ],
   "source": [
    "print(\"mean geen: \", df_geen['negativity_score'].mean())\n",
    "print(\"min geen: \", df_geen['negativity_score'].min())\n",
    "print(\"max geen: \", df_geen['negativity_score'].max())"
   ]
  },
  {
   "cell_type": "code",
   "execution_count": 6,
   "metadata": {},
   "outputs": [
    {
     "name": "stdout",
     "output_type": "stream",
     "text": [
      "mean nu:  0.16083444451277631\n",
      "min nu:  0.0602803524212109\n",
      "max nu:  0.3894698820611494\n",
      "mean geen:  0.21873515508690394\n",
      "min geen:  0.0\n",
      "max geen:  1.0\n"
     ]
    }
   ],
   "source": [
    "print(\"mean nu: \", df_nu['normalized_score'].mean())\n",
    "print(\"min nu: \", df_nu['normalized_score'].min())\n",
    "print(\"max nu: \", df_nu['normalized_score'].max())\n",
    "\n",
    "print(\"mean geen: \", df_geen['normalized_score'].mean())\n",
    "print(\"min geen: \", df_geen['normalized_score'].min())\n",
    "print(\"max geen: \", df_geen['normalized_score'].max())"
   ]
  },
  {
   "cell_type": "code",
   "execution_count": 6,
   "metadata": {},
   "outputs": [
    {
     "data": {
      "text/plain": [
       "1    181\n",
       "2     71\n",
       "3      8\n",
       "4      2\n",
       "5      2\n",
       "Name: negativity_degree, dtype: int64"
      ]
     },
     "execution_count": 6,
     "metadata": {},
     "output_type": "execute_result"
    }
   ],
   "source": [
    "df['negativity_degree'].value_counts()"
   ]
  },
  {
   "cell_type": "code",
   "execution_count": null,
   "metadata": {},
   "outputs": [],
   "source": []
  },
  {
   "cell_type": "code",
   "execution_count": 11,
   "metadata": {},
   "outputs": [],
   "source": [
    "df = pd.read_csv('sample_ds_negativity_sentiment.csv')\n",
    "# df.to_excel('sample_ds_negativity_sentiment.xlsx', index=False)\n"
   ]
  },
  {
   "cell_type": "code",
   "execution_count": 8,
   "metadata": {},
   "outputs": [
    {
     "name": "stdout",
     "output_type": "stream",
     "text": [
      "(500, 21)\n",
      "0.1687603138127819\n",
      "2.7731768219946256\n"
     ]
    }
   ],
   "source": [
    "dfnu = df[df['doctype']=='nu.nl']\n",
    "print(dfnu.shape)\n",
    "print(dfnu['normalized_score'].mean())\n",
    "print(dfnu['negativity_score'].mean())"
   ]
  },
  {
   "cell_type": "code",
   "execution_count": 9,
   "metadata": {},
   "outputs": [
    {
     "name": "stdout",
     "output_type": "stream",
     "text": [
      "(500, 21)\n",
      "0.20590039131630045\n",
      "3.383486199672735\n"
     ]
    }
   ],
   "source": [
    "dfgeen = df[df['doctype']=='geenstijl.nl']\n",
    "print(dfgeen.shape)\n",
    "print(dfgeen['normalized_score'].mean())\n",
    "print(dfgeen['negativity_score'].mean())"
   ]
  },
  {
   "cell_type": "markdown",
   "metadata": {},
   "source": [
    "# including afkomst"
   ]
  },
  {
   "cell_type": "code",
   "execution_count": 17,
   "metadata": {},
   "outputs": [],
   "source": [
    "import pandas as pd\n",
    "df = pd.read_csv('outgroups_negativity_sentiment.csv')\n",
    "df.to_excel('outgroups_negativity_sentiment.xlsx', index=False)\n"
   ]
  },
  {
   "cell_type": "code",
   "execution_count": 13,
   "metadata": {},
   "outputs": [
    {
     "name": "stdout",
     "output_type": "stream",
     "text": [
      "mean nu:  3.0112466800040436\n",
      "min nu:  1.6347946234079254\n",
      "max nu:  5.955039055492634\n",
      "mean geen:  3.861912674991382\n",
      "min geen:  1.6643418063911106\n",
      "max geen:  10.99121460184837\n"
     ]
    }
   ],
   "source": [
    "df_nu = df[df['doctype']=='nu.nl']\n",
    "df_geen = df[df['doctype']=='geenstijl.nl']\n",
    "\n",
    "print(\"mean nu: \", df_nu['negativity_score'].mean())\n",
    "print(\"min nu: \", df_nu['negativity_score'].min())\n",
    "print(\"max nu: \", df_nu['negativity_score'].max())\n",
    "\n",
    "print(\"mean geen: \", df_geen['negativity_score'].mean())\n",
    "print(\"min geen: \", df_geen['negativity_score'].min())\n",
    "print(\"max geen: \", df_geen['negativity_score'].max())\n",
    "\n"
   ]
  },
  {
   "cell_type": "code",
   "execution_count": 14,
   "metadata": {},
   "outputs": [
    {
     "name": "stdout",
     "output_type": "stream",
     "text": [
      "mean nu:  0.14711311161403726\n",
      "min nu:  0.0\n",
      "max nu:  0.4617411832773265\n",
      "mean geen:  0.23803100509760106\n",
      "min geen:  0.0031579581775154\n",
      "max geen:  1.0\n"
     ]
    }
   ],
   "source": [
    "print(\"mean nu: \", df_nu['normalized_score'].mean())\n",
    "print(\"min nu: \", df_nu['normalized_score'].min())\n",
    "print(\"max nu: \", df_nu['normalized_score'].max())\n",
    "\n",
    "print(\"mean geen: \", df_geen['normalized_score'].mean())\n",
    "print(\"min geen: \", df_geen['normalized_score'].min())\n",
    "print(\"max geen: \", df_geen['normalized_score'].max())"
   ]
  },
  {
   "cell_type": "code",
   "execution_count": 15,
   "metadata": {},
   "outputs": [
    {
     "data": {
      "text/plain": [
       "1    281\n",
       "2     86\n",
       "3     10\n",
       "4      2\n",
       "5      2\n",
       "Name: negativity_degree, dtype: int64"
      ]
     },
     "execution_count": 15,
     "metadata": {},
     "output_type": "execute_result"
    }
   ],
   "source": [
    "df['negativity_degree'].value_counts()"
   ]
  },
  {
   "cell_type": "code",
   "execution_count": 21,
   "metadata": {},
   "outputs": [],
   "source": [
    "import pandas as pd"
   ]
  },
  {
   "cell_type": "code",
   "execution_count": 22,
   "metadata": {},
   "outputs": [
    {
     "data": {
      "text/html": [
       "<div>\n",
       "<style scoped>\n",
       "    .dataframe tbody tr th:only-of-type {\n",
       "        vertical-align: middle;\n",
       "    }\n",
       "\n",
       "    .dataframe tbody tr th {\n",
       "        vertical-align: top;\n",
       "    }\n",
       "\n",
       "    .dataframe thead th {\n",
       "        text-align: right;\n",
       "    }\n",
       "</style>\n",
       "<table border=\"1\" class=\"dataframe\">\n",
       "  <thead>\n",
       "    <tr style=\"text-align: right;\">\n",
       "      <th></th>\n",
       "      <th>id</th>\n",
       "      <th>title</th>\n",
       "      <th>teaser</th>\n",
       "      <th>text</th>\n",
       "      <th>category</th>\n",
       "      <th>publication_date_time</th>\n",
       "      <th>created_at</th>\n",
       "      <th>images</th>\n",
       "      <th>reactions</th>\n",
       "      <th>author</th>\n",
       "      <th>doctype</th>\n",
       "      <th>url</th>\n",
       "      <th>tags</th>\n",
       "      <th>sitemap_url</th>\n",
       "      <th>clean_text</th>\n",
       "    </tr>\n",
       "  </thead>\n",
       "  <tbody>\n",
       "    <tr>\n",
       "      <th>0</th>\n",
       "      <td>6150758</td>\n",
       "      <td>Schmidt vreest voor Benfica: 'Grote uitdaging ...</td>\n",
       "      <td>PSV-trainer Roger Schmidt verwacht dat PSV het...</td>\n",
       "      <td>PSV-trainer Roger Schmidt verwacht dat PSV he...</td>\n",
       "      <td>champions-league</td>\n",
       "      <td>2021-08-10 23:03:00</td>\n",
       "      <td>2021-08-11 23:00:11</td>\n",
       "      <td>NaN</td>\n",
       "      <td>NaN</td>\n",
       "      <td>Door:                        NU.nl</td>\n",
       "      <td>nu.nl</td>\n",
       "      <td>https://www.nu.nl/champions-league/6150758/sch...</td>\n",
       "      <td>PSV, Champions League, Benfica, Roger Schmidt,...</td>\n",
       "      <td>https://www.nu.nl/sitemap_news.xml</td>\n",
       "      <td>PSVtrainer Roger Schmidt verwacht PSV moeilijk...</td>\n",
       "    </tr>\n",
       "    <tr>\n",
       "      <th>1</th>\n",
       "      <td>6150757</td>\n",
       "      <td>Tweehonderd dode bergeenden aangetroffen op Ze...</td>\n",
       "      <td>Op een aantal stranden op het Zeeuwse schierei...</td>\n",
       "      <td>Op een aantal stranden op het Zeeuwse schiere...</td>\n",
       "      <td>binnenland</td>\n",
       "      <td>2021-08-10 22:46:00</td>\n",
       "      <td>2021-08-10 23:00:12</td>\n",
       "      <td>NaN</td>\n",
       "      <td>NaN</td>\n",
       "      <td>Door:                        ANP/NU.nl</td>\n",
       "      <td>nu.nl</td>\n",
       "      <td>https://www.nu.nl/binnenland/6150757/tweehonde...</td>\n",
       "      <td>Vlissingen, Zeeland, Dieren, Binnenland</td>\n",
       "      <td>https://www.nu.nl/sitemap_news.xml</td>\n",
       "      <td>Op aantal stranden Zeeuwse schiereiland Walche...</td>\n",
       "    </tr>\n",
       "    <tr>\n",
       "      <th>2</th>\n",
       "      <td>a5160517</td>\n",
       "      <td>Stamcafé Moppentap: Komt een transgender in ee...</td>\n",
       "      <td>NaN</td>\n",
       "      <td>Okay. Nu volgt het meest 'Murica schrijverstaf...</td>\n",
       "      <td>NaN</td>\n",
       "      <td>2021-08-10 22:22:00</td>\n",
       "      <td>2021-08-10 23:00:05</td>\n",
       "      <td>NaN</td>\n",
       "      <td>116 reacties</td>\n",
       "      <td>@Van Rossem</td>\n",
       "      <td>geenstijl.nl</td>\n",
       "      <td>https://www.geenstijl.nl/5160517/stamcafe-mopp...</td>\n",
       "      <td>it's a war out there man, americanism intensif...</td>\n",
       "      <td>https://www.geenstijl.nl/sitemap.xml</td>\n",
       "      <td>Okay Nu volgt meest Murica schrijverstafereelt...</td>\n",
       "    </tr>\n",
       "    <tr>\n",
       "      <th>3</th>\n",
       "      <td>6150755</td>\n",
       "      <td>Fans kunnen via loting kans maken op kaartje v...</td>\n",
       "      <td>Om het tienjarige jubileum van het album</td>\n",
       "      <td>Om het tienjarige jubileum van het album  +  ...</td>\n",
       "      <td>muziek</td>\n",
       "      <td>2021-08-10 22:17:00</td>\n",
       "      <td>2021-08-10 23:00:12</td>\n",
       "      <td>NaN</td>\n",
       "      <td>NaN</td>\n",
       "      <td>Door:                        NU.nl/ANP</td>\n",
       "      <td>nu.nl</td>\n",
       "      <td>https://www.nu.nl/muziek/6150755/fans-kunnen-v...</td>\n",
       "      <td>Ed Sheeran, Muziek</td>\n",
       "      <td>https://www.nu.nl/sitemap_news.xml</td>\n",
       "      <td>Om tienjarige jubileum album  Ed Sheeran viere...</td>\n",
       "    </tr>\n",
       "    <tr>\n",
       "      <th>4</th>\n",
       "      <td>6150754</td>\n",
       "      <td>Meer dan veertig doden bij bosbranden in Algerije</td>\n",
       "      <td>In Algerije zijn 25 militairen om het leven ge...</td>\n",
       "      <td>In Algerije zijn 25 militairen om het leven g...</td>\n",
       "      <td>buitenland</td>\n",
       "      <td>2021-08-10 22:03:00</td>\n",
       "      <td>2021-08-11 23:00:11</td>\n",
       "      <td>NaN</td>\n",
       "      <td>NaN</td>\n",
       "      <td>Door:                        NU.nl/ANP</td>\n",
       "      <td>nu.nl</td>\n",
       "      <td>https://www.nu.nl/buitenland/6150754/meer-dan-...</td>\n",
       "      <td>Algerije, Buitenland</td>\n",
       "      <td>https://www.nu.nl/sitemap_news.xml</td>\n",
       "      <td>In Algerije 25 militairen leven gekomen bestri...</td>\n",
       "    </tr>\n",
       "    <tr>\n",
       "      <th>...</th>\n",
       "      <td>...</td>\n",
       "      <td>...</td>\n",
       "      <td>...</td>\n",
       "      <td>...</td>\n",
       "      <td>...</td>\n",
       "      <td>...</td>\n",
       "      <td>...</td>\n",
       "      <td>...</td>\n",
       "      <td>...</td>\n",
       "      <td>...</td>\n",
       "      <td>...</td>\n",
       "      <td>...</td>\n",
       "      <td>...</td>\n",
       "      <td>...</td>\n",
       "      <td>...</td>\n",
       "    </tr>\n",
       "    <tr>\n",
       "      <th>41954</th>\n",
       "      <td>6089391</td>\n",
       "      <td>Weerbericht: Bewolkte dag met hier en daar zon...</td>\n",
       "      <td>Dinsdag is er vrij veel bewolking, maar vooral...</td>\n",
       "      <td>Dinsdag is er vrij veel bewolking, maar voora...</td>\n",
       "      <td>binnenland</td>\n",
       "      <td>2020-11-10 05:26:00</td>\n",
       "      <td>2020-11-12 14:52:36</td>\n",
       "      <td>{0: 'https://media.nu.nl/m/jemxdnlaf0t4_wd640....</td>\n",
       "      <td>0</td>\n",
       "      <td>Door:                        NU.nl/WeerPlaza</td>\n",
       "      <td>nu.nl</td>\n",
       "      <td>https://www.nu.nl/binnenland/6089391/weerberic...</td>\n",
       "      <td>Weer, Binnenland, Weerbericht</td>\n",
       "      <td>https://www.nu.nl/sitemap_news.xml</td>\n",
       "      <td>Dinsdag vrij bewolking vooral zuidoosten schij...</td>\n",
       "    </tr>\n",
       "    <tr>\n",
       "      <th>41955</th>\n",
       "      <td>6089396</td>\n",
       "      <td>Justitieminister VS geeft toestemming voor ond...</td>\n",
       "      <td>De Amerikaanse minister van Justitie William B...</td>\n",
       "      <td>De Amerikaanse minister van Justitie William ...</td>\n",
       "      <td>verkiezingen-vs</td>\n",
       "      <td>2020-11-10 04:54:00</td>\n",
       "      <td>2020-11-12 14:52:36</td>\n",
       "      <td>{0: 'https://media.nu.nl/m/utkxvaoa9qj7_wd640....</td>\n",
       "      <td>1.7K</td>\n",
       "      <td>Door:                        NU.nl/ANP</td>\n",
       "      <td>nu.nl</td>\n",
       "      <td>https://www.nu.nl/verkiezingen-vs/6089396/just...</td>\n",
       "      <td>Verenigde Staten, Donald Trump, Buitenland</td>\n",
       "      <td>https://www.nu.nl/sitemap_news.xml</td>\n",
       "      <td>De Amerikaanse minister Justitie William Barr ...</td>\n",
       "    </tr>\n",
       "    <tr>\n",
       "      <th>41956</th>\n",
       "      <td>6089395</td>\n",
       "      <td>Peruaanse president Vizcarra afgezet door parl...</td>\n",
       "      <td>De Peruaanse president Martín Vizcarra is maan...</td>\n",
       "      <td>De Peruaanse president Martín Vizcarra is maa...</td>\n",
       "      <td>buitenland</td>\n",
       "      <td>2020-11-10 02:45:00</td>\n",
       "      <td>2020-11-12 14:52:36</td>\n",
       "      <td>{0: 'https://media.nu.nl/m/25wx9duag50j_wd640....</td>\n",
       "      <td>10</td>\n",
       "      <td>Door:                        NU.nl/ANP</td>\n",
       "      <td>nu.nl</td>\n",
       "      <td>https://www.nu.nl/buitenland/6089395/peruaanse...</td>\n",
       "      <td>Peru, Buitenland</td>\n",
       "      <td>https://www.nu.nl/sitemap_news.xml</td>\n",
       "      <td>De Peruaanse president Martín Vizcarra maandag...</td>\n",
       "    </tr>\n",
       "    <tr>\n",
       "      <th>41957</th>\n",
       "      <td>6089393</td>\n",
       "      <td>Brits Hogerhuis verwerpt omstreden 'Brexit-wet...</td>\n",
       "      <td>Het Britse Hogerhuis heeft in de nacht van maa...</td>\n",
       "      <td>Het Britse Hogerhuis heeft in de nacht van ma...</td>\n",
       "      <td>brexit</td>\n",
       "      <td>2020-11-10 00:55:00</td>\n",
       "      <td>2020-11-12 14:52:36</td>\n",
       "      <td>{0: 'https://media.nu.nl/m/m68xeoua1c0z_wd640....</td>\n",
       "      <td>184</td>\n",
       "      <td>Door:                        NU.nl/ANP</td>\n",
       "      <td>nu.nl</td>\n",
       "      <td>https://www.nu.nl/brexit/6089393/brits-hogerhu...</td>\n",
       "      <td>Verenigd Koninkrijk, Economie, Brexit</td>\n",
       "      <td>https://www.nu.nl/sitemap_news.xml</td>\n",
       "      <td>Het Britse Hogerhuis nacht maandag dinsdag oms...</td>\n",
       "    </tr>\n",
       "    <tr>\n",
       "      <th>41958</th>\n",
       "      <td>6089392</td>\n",
       "      <td>'Armenië, Azerbeidzjan en Rusland tekenen deal...</td>\n",
       "      <td>Armenië, Azerbeidzjan en Rusland hebben een ov...</td>\n",
       "      <td>Armenië, Azerbeidzjan en Rusland hebben een o...</td>\n",
       "      <td>buitenland</td>\n",
       "      <td>2020-11-10 00:25:00</td>\n",
       "      <td>2020-11-12 14:52:36</td>\n",
       "      <td>{0: 'https://media.nu.nl/m/5zsx2sha8utt_wd640....</td>\n",
       "      <td>108</td>\n",
       "      <td>Door:                        NU.nl/ANP/Reuters</td>\n",
       "      <td>nu.nl</td>\n",
       "      <td>https://www.nu.nl/buitenland/6089392/armenie-a...</td>\n",
       "      <td>Armenië, Rusland, Azerbeidzjan, Nagorno-Karaba...</td>\n",
       "      <td>https://www.nu.nl/sitemap_news.xml</td>\n",
       "      <td>Armenië Azerbeidzjan Rusland overeenkomst gete...</td>\n",
       "    </tr>\n",
       "  </tbody>\n",
       "</table>\n",
       "<p>41959 rows × 15 columns</p>\n",
       "</div>"
      ],
      "text/plain": [
       "             id                                              title  \\\n",
       "0       6150758  Schmidt vreest voor Benfica: 'Grote uitdaging ...   \n",
       "1       6150757  Tweehonderd dode bergeenden aangetroffen op Ze...   \n",
       "2      a5160517  Stamcafé Moppentap: Komt een transgender in ee...   \n",
       "3       6150755  Fans kunnen via loting kans maken op kaartje v...   \n",
       "4       6150754  Meer dan veertig doden bij bosbranden in Algerije   \n",
       "...         ...                                                ...   \n",
       "41954   6089391  Weerbericht: Bewolkte dag met hier en daar zon...   \n",
       "41955   6089396  Justitieminister VS geeft toestemming voor ond...   \n",
       "41956   6089395  Peruaanse president Vizcarra afgezet door parl...   \n",
       "41957   6089393  Brits Hogerhuis verwerpt omstreden 'Brexit-wet...   \n",
       "41958   6089392  'Armenië, Azerbeidzjan en Rusland tekenen deal...   \n",
       "\n",
       "                                                  teaser  \\\n",
       "0      PSV-trainer Roger Schmidt verwacht dat PSV het...   \n",
       "1      Op een aantal stranden op het Zeeuwse schierei...   \n",
       "2                                                    NaN   \n",
       "3              Om het tienjarige jubileum van het album    \n",
       "4      In Algerije zijn 25 militairen om het leven ge...   \n",
       "...                                                  ...   \n",
       "41954  Dinsdag is er vrij veel bewolking, maar vooral...   \n",
       "41955  De Amerikaanse minister van Justitie William B...   \n",
       "41956  De Peruaanse president Martín Vizcarra is maan...   \n",
       "41957  Het Britse Hogerhuis heeft in de nacht van maa...   \n",
       "41958  Armenië, Azerbeidzjan en Rusland hebben een ov...   \n",
       "\n",
       "                                                    text          category  \\\n",
       "0       PSV-trainer Roger Schmidt verwacht dat PSV he...  champions-league   \n",
       "1       Op een aantal stranden op het Zeeuwse schiere...        binnenland   \n",
       "2      Okay. Nu volgt het meest 'Murica schrijverstaf...               NaN   \n",
       "3       Om het tienjarige jubileum van het album  +  ...            muziek   \n",
       "4       In Algerije zijn 25 militairen om het leven g...        buitenland   \n",
       "...                                                  ...               ...   \n",
       "41954   Dinsdag is er vrij veel bewolking, maar voora...        binnenland   \n",
       "41955   De Amerikaanse minister van Justitie William ...   verkiezingen-vs   \n",
       "41956   De Peruaanse president Martín Vizcarra is maa...        buitenland   \n",
       "41957   Het Britse Hogerhuis heeft in de nacht van ma...            brexit   \n",
       "41958   Armenië, Azerbeidzjan en Rusland hebben een o...        buitenland   \n",
       "\n",
       "      publication_date_time           created_at  \\\n",
       "0       2021-08-10 23:03:00  2021-08-11 23:00:11   \n",
       "1       2021-08-10 22:46:00  2021-08-10 23:00:12   \n",
       "2       2021-08-10 22:22:00  2021-08-10 23:00:05   \n",
       "3       2021-08-10 22:17:00  2021-08-10 23:00:12   \n",
       "4       2021-08-10 22:03:00  2021-08-11 23:00:11   \n",
       "...                     ...                  ...   \n",
       "41954   2020-11-10 05:26:00  2020-11-12 14:52:36   \n",
       "41955   2020-11-10 04:54:00  2020-11-12 14:52:36   \n",
       "41956   2020-11-10 02:45:00  2020-11-12 14:52:36   \n",
       "41957   2020-11-10 00:55:00  2020-11-12 14:52:36   \n",
       "41958   2020-11-10 00:25:00  2020-11-12 14:52:36   \n",
       "\n",
       "                                                  images     reactions  \\\n",
       "0                                                    NaN           NaN   \n",
       "1                                                    NaN           NaN   \n",
       "2                                                    NaN  116 reacties   \n",
       "3                                                    NaN           NaN   \n",
       "4                                                    NaN           NaN   \n",
       "...                                                  ...           ...   \n",
       "41954  {0: 'https://media.nu.nl/m/jemxdnlaf0t4_wd640....             0   \n",
       "41955  {0: 'https://media.nu.nl/m/utkxvaoa9qj7_wd640....          1.7K   \n",
       "41956  {0: 'https://media.nu.nl/m/25wx9duag50j_wd640....            10   \n",
       "41957  {0: 'https://media.nu.nl/m/m68xeoua1c0z_wd640....           184   \n",
       "41958  {0: 'https://media.nu.nl/m/5zsx2sha8utt_wd640....           108   \n",
       "\n",
       "                                               author       doctype  \\\n",
       "0                  Door:                        NU.nl         nu.nl   \n",
       "1              Door:                        ANP/NU.nl         nu.nl   \n",
       "2                                         @Van Rossem  geenstijl.nl   \n",
       "3              Door:                        NU.nl/ANP         nu.nl   \n",
       "4              Door:                        NU.nl/ANP         nu.nl   \n",
       "...                                               ...           ...   \n",
       "41954    Door:                        NU.nl/WeerPlaza         nu.nl   \n",
       "41955          Door:                        NU.nl/ANP         nu.nl   \n",
       "41956          Door:                        NU.nl/ANP         nu.nl   \n",
       "41957          Door:                        NU.nl/ANP         nu.nl   \n",
       "41958  Door:                        NU.nl/ANP/Reuters         nu.nl   \n",
       "\n",
       "                                                     url  \\\n",
       "0      https://www.nu.nl/champions-league/6150758/sch...   \n",
       "1      https://www.nu.nl/binnenland/6150757/tweehonde...   \n",
       "2      https://www.geenstijl.nl/5160517/stamcafe-mopp...   \n",
       "3      https://www.nu.nl/muziek/6150755/fans-kunnen-v...   \n",
       "4      https://www.nu.nl/buitenland/6150754/meer-dan-...   \n",
       "...                                                  ...   \n",
       "41954  https://www.nu.nl/binnenland/6089391/weerberic...   \n",
       "41955  https://www.nu.nl/verkiezingen-vs/6089396/just...   \n",
       "41956  https://www.nu.nl/buitenland/6089395/peruaanse...   \n",
       "41957  https://www.nu.nl/brexit/6089393/brits-hogerhu...   \n",
       "41958  https://www.nu.nl/buitenland/6089392/armenie-a...   \n",
       "\n",
       "                                                    tags  \\\n",
       "0      PSV, Champions League, Benfica, Roger Schmidt,...   \n",
       "1                Vlissingen, Zeeland, Dieren, Binnenland   \n",
       "2      it's a war out there man, americanism intensif...   \n",
       "3                                     Ed Sheeran, Muziek   \n",
       "4                                   Algerije, Buitenland   \n",
       "...                                                  ...   \n",
       "41954                      Weer, Binnenland, Weerbericht   \n",
       "41955         Verenigde Staten, Donald Trump, Buitenland   \n",
       "41956                                   Peru, Buitenland   \n",
       "41957              Verenigd Koninkrijk, Economie, Brexit   \n",
       "41958  Armenië, Rusland, Azerbeidzjan, Nagorno-Karaba...   \n",
       "\n",
       "                                sitemap_url  \\\n",
       "0        https://www.nu.nl/sitemap_news.xml   \n",
       "1        https://www.nu.nl/sitemap_news.xml   \n",
       "2      https://www.geenstijl.nl/sitemap.xml   \n",
       "3        https://www.nu.nl/sitemap_news.xml   \n",
       "4        https://www.nu.nl/sitemap_news.xml   \n",
       "...                                     ...   \n",
       "41954    https://www.nu.nl/sitemap_news.xml   \n",
       "41955    https://www.nu.nl/sitemap_news.xml   \n",
       "41956    https://www.nu.nl/sitemap_news.xml   \n",
       "41957    https://www.nu.nl/sitemap_news.xml   \n",
       "41958    https://www.nu.nl/sitemap_news.xml   \n",
       "\n",
       "                                              clean_text  \n",
       "0      PSVtrainer Roger Schmidt verwacht PSV moeilijk...  \n",
       "1      Op aantal stranden Zeeuwse schiereiland Walche...  \n",
       "2      Okay Nu volgt meest Murica schrijverstafereelt...  \n",
       "3      Om tienjarige jubileum album  Ed Sheeran viere...  \n",
       "4      In Algerije 25 militairen leven gekomen bestri...  \n",
       "...                                                  ...  \n",
       "41954  Dinsdag vrij bewolking vooral zuidoosten schij...  \n",
       "41955  De Amerikaanse minister Justitie William Barr ...  \n",
       "41956  De Peruaanse president Martín Vizcarra maandag...  \n",
       "41957  Het Britse Hogerhuis nacht maandag dinsdag oms...  \n",
       "41958  Armenië Azerbeidzjan Rusland overeenkomst gete...  \n",
       "\n",
       "[41959 rows x 15 columns]"
      ]
     },
     "execution_count": 22,
     "metadata": {},
     "output_type": "execute_result"
    }
   ],
   "source": [
    "df = pd.read_csv('news-dataset--2021-08-11.csv')\n",
    "df"
   ]
  },
  {
   "cell_type": "code",
   "execution_count": 25,
   "metadata": {},
   "outputs": [
    {
     "data": {
      "text/html": [
       "<div>\n",
       "<style scoped>\n",
       "    .dataframe tbody tr th:only-of-type {\n",
       "        vertical-align: middle;\n",
       "    }\n",
       "\n",
       "    .dataframe tbody tr th {\n",
       "        vertical-align: top;\n",
       "    }\n",
       "\n",
       "    .dataframe thead th {\n",
       "        text-align: right;\n",
       "    }\n",
       "</style>\n",
       "<table border=\"1\" class=\"dataframe\">\n",
       "  <thead>\n",
       "    <tr style=\"text-align: right;\">\n",
       "      <th></th>\n",
       "      <th>id</th>\n",
       "      <th>title</th>\n",
       "      <th>teaser</th>\n",
       "      <th>text</th>\n",
       "      <th>category</th>\n",
       "      <th>publication_date_time</th>\n",
       "      <th>created_at</th>\n",
       "      <th>images</th>\n",
       "      <th>reactions</th>\n",
       "      <th>author</th>\n",
       "      <th>doctype</th>\n",
       "      <th>url</th>\n",
       "      <th>tags</th>\n",
       "      <th>sitemap_url</th>\n",
       "      <th>clean_text</th>\n",
       "    </tr>\n",
       "  </thead>\n",
       "  <tbody>\n",
       "    <tr>\n",
       "      <th>2</th>\n",
       "      <td>a5160517</td>\n",
       "      <td>Stamcafé Moppentap: Komt een transgender in ee...</td>\n",
       "      <td>NaN</td>\n",
       "      <td>Okay. Nu volgt het meest 'Murica schrijverstaf...</td>\n",
       "      <td>NaN</td>\n",
       "      <td>2021-08-10 22:22:00</td>\n",
       "      <td>2021-08-10 23:00:05</td>\n",
       "      <td>NaN</td>\n",
       "      <td>116 reacties</td>\n",
       "      <td>@Van Rossem</td>\n",
       "      <td>geenstijl.nl</td>\n",
       "      <td>https://www.geenstijl.nl/5160517/stamcafe-mopp...</td>\n",
       "      <td>it's a war out there man, americanism intensif...</td>\n",
       "      <td>https://www.geenstijl.nl/sitemap.xml</td>\n",
       "      <td>Okay Nu volgt meest Murica schrijverstafereelt...</td>\n",
       "    </tr>\n",
       "    <tr>\n",
       "      <th>13</th>\n",
       "      <td>a5160515</td>\n",
       "      <td>Ook al te wit gebakken: Hiske Versprille</td>\n",
       "      <td>Aan dialoogtafel!</td>\n",
       "      <td>\\n        \\n    \\n  \\n      Ook al \"te wit\": c...</td>\n",
       "      <td>NaN</td>\n",
       "      <td>2021-08-10 21:15:00</td>\n",
       "      <td>2021-08-10 23:00:04</td>\n",
       "      <td>{0: 'https://image.gscdn.nl/image/1ee226a383_k...</td>\n",
       "      <td>194 reacties</td>\n",
       "      <td>@Van Rossem</td>\n",
       "      <td>geenstijl.nl</td>\n",
       "      <td>https://www.geenstijl.nl/5160515/leefde-johann...</td>\n",
       "      <td>wereldgerechten, woke, deegroller in je poepert</td>\n",
       "      <td>https://www.geenstijl.nl/sitemap.xml</td>\n",
       "      <td>Ook te wit culinaire redacties En zomaar wit n...</td>\n",
       "    </tr>\n",
       "    <tr>\n",
       "      <th>21</th>\n",
       "      <td>a5160514</td>\n",
       "      <td>NRC-familie incl. kinderen aan oxazepam en dra...</td>\n",
       "      <td>Dit doen de</td>\n",
       "      <td>\\n        \\n    \\n  \\n      Nu kennen we Ellen...</td>\n",
       "      <td>NaN</td>\n",
       "      <td>2021-08-10 20:00:00</td>\n",
       "      <td>2021-08-10 23:00:04</td>\n",
       "      <td>{0: 'https://image.gscdn.nl/image/83d5340e36_S...</td>\n",
       "      <td>394 reacties</td>\n",
       "      <td>@Spartacus</td>\n",
       "      <td>geenstijl.nl</td>\n",
       "      <td>https://www.geenstijl.nl/5160514/na-mij-de-zon...</td>\n",
       "      <td>klimaat, pretraumatisch, oxazepam</td>\n",
       "      <td>https://www.geenstijl.nl/sitemap.xml</td>\n",
       "      <td>Nu kennen we Ellen Deckwitz  een belangrijkste...</td>\n",
       "    </tr>\n",
       "    <tr>\n",
       "      <th>30</th>\n",
       "      <td>a5160518</td>\n",
       "      <td>VS: Zoek het lekker zelf uit met die Taliban</td>\n",
       "      <td>Niet ons probleem</td>\n",
       "      <td>Pakt de Taliban na het vertrek van de VS hun l...</td>\n",
       "      <td>NaN</td>\n",
       "      <td>2021-08-10 19:01:00</td>\n",
       "      <td>2021-08-10 23:00:04</td>\n",
       "      <td>NaN</td>\n",
       "      <td>273 reacties</td>\n",
       "      <td>@Struikrover</td>\n",
       "      <td>geenstijl.nl</td>\n",
       "      <td>https://www.geenstijl.nl/5160518/vs-zoek-het-l...</td>\n",
       "      <td>afghanistan, taliban, tolken, oorlog</td>\n",
       "      <td>https://www.geenstijl.nl/sitemap.xml</td>\n",
       "      <td>Pakt Taliban vertrek VS land eindelijk terug A...</td>\n",
       "    </tr>\n",
       "    <tr>\n",
       "      <th>44</th>\n",
       "      <td>a5160510</td>\n",
       "      <td>Even opletten allemaal. Implicaties vanwege he...</td>\n",
       "      <td>Hallo ik wil graag dit doosje maden retourneren</td>\n",
       "      <td>\\n        \\n    \\n  \\n      Fijn dat we jullie...</td>\n",
       "      <td>NaN</td>\n",
       "      <td>2021-08-10 18:00:00</td>\n",
       "      <td>2021-08-10 23:00:05</td>\n",
       "      <td>{0: 'https://image.gscdn.nl/image/9c6a748144_v...</td>\n",
       "      <td>107 reacties</td>\n",
       "      <td>@Mosterd</td>\n",
       "      <td>geenstijl.nl</td>\n",
       "      <td>https://www.geenstijl.nl/5160510/viswijven/</td>\n",
       "      <td>vissen, dobber, pier</td>\n",
       "      <td>https://www.geenstijl.nl/sitemap.xml</td>\n",
       "      <td>Fijn we jullie aandacht hebben volgende even h...</td>\n",
       "    </tr>\n",
       "    <tr>\n",
       "      <th>...</th>\n",
       "      <td>...</td>\n",
       "      <td>...</td>\n",
       "      <td>...</td>\n",
       "      <td>...</td>\n",
       "      <td>...</td>\n",
       "      <td>...</td>\n",
       "      <td>...</td>\n",
       "      <td>...</td>\n",
       "      <td>...</td>\n",
       "      <td>...</td>\n",
       "      <td>...</td>\n",
       "      <td>...</td>\n",
       "      <td>...</td>\n",
       "      <td>...</td>\n",
       "      <td>...</td>\n",
       "    </tr>\n",
       "    <tr>\n",
       "      <th>41822</th>\n",
       "      <td>a5156270</td>\n",
       "      <td>Video. Agent bezoekt Nieuwsgierige Nederlander...</td>\n",
       "      <td>Even voorstellen: Flavio Pasquino van \"</td>\n",
       "      <td>Flavio, een soort Mediterrane en minder passie...</td>\n",
       "      <td>NaN</td>\n",
       "      <td>2020-11-10 19:33:00</td>\n",
       "      <td>2020-11-12 14:52:31</td>\n",
       "      <td>{0: 'https://image.gscdn.nl/image/a039fecb4d_S...</td>\n",
       "      <td>465 reacties</td>\n",
       "      <td>@Spartacus</td>\n",
       "      <td>geenstijl.nl</td>\n",
       "      <td>https://www.geenstijl.nl/5156270/je-mag-niet-e...</td>\n",
       "      <td>politie , corona , noodwet</td>\n",
       "      <td>https://www.geenstijl.nl/sitemap.xml</td>\n",
       "      <td>Flavio soort Mediterrane minder passiefagressi...</td>\n",
       "    </tr>\n",
       "    <tr>\n",
       "      <th>41839</th>\n",
       "      <td>a5156232</td>\n",
       "      <td>MUZIEK! De nieuwe single van de Foo Fighters</td>\n",
       "      <td>Hee Dave Chapelle!</td>\n",
       "      <td>We kunnen het er met z'n allen wel over eens z...</td>\n",
       "      <td>NaN</td>\n",
       "      <td>2020-11-10 18:30:00</td>\n",
       "      <td>2020-11-12 14:52:31</td>\n",
       "      <td>NaN</td>\n",
       "      <td>182 reacties</td>\n",
       "      <td>@Mosterd</td>\n",
       "      <td>geenstijl.nl</td>\n",
       "      <td>https://www.geenstijl.nl/5156232/foooooooo/</td>\n",
       "      <td>muziek, foo fighters, dave grohl</td>\n",
       "      <td>https://www.geenstijl.nl/sitemap.xml</td>\n",
       "      <td>We zn allen wel Foo Fighters grootste stadionr...</td>\n",
       "    </tr>\n",
       "    <tr>\n",
       "      <th>41844</th>\n",
       "      <td>a5156271</td>\n",
       "      <td>Het Zwarte PietenJournaal van Omroep ON</td>\n",
       "      <td>TRAILER!</td>\n",
       "      <td>Ha! Daar is-ie. Het enige echte Zwarte Pieten ...</td>\n",
       "      <td>NaN</td>\n",
       "      <td>2020-11-10 17:35:00</td>\n",
       "      <td>2020-11-12 14:52:27</td>\n",
       "      <td>NaN</td>\n",
       "      <td>276 reacties</td>\n",
       "      <td>@Pritt Stift</td>\n",
       "      <td>geenstijl.nl</td>\n",
       "      <td>https://www.geenstijl.nl/5156271/het-zwarte-pi...</td>\n",
       "      <td>ongehoord nederland, zwarte Piet, journaal</td>\n",
       "      <td>https://www.geenstijl.nl/sitemap.xml</td>\n",
       "      <td>Ha Daar isie Het enige echte Zwarte Pieten Jou...</td>\n",
       "    </tr>\n",
       "    <tr>\n",
       "      <th>41859</th>\n",
       "      <td>a5156266</td>\n",
       "      <td>ZOEK! Het baasje van deze crosswollah</td>\n",
       "      <td>Klein groepje motorcrossers verpest het voor d...</td>\n",
       "      <td>\\n        \\n    \\n  \\n      In Culemblanca is ...</td>\n",
       "      <td>NaN</td>\n",
       "      <td>2020-11-10 16:25:00</td>\n",
       "      <td>2020-11-12 14:52:27</td>\n",
       "      <td>{0: 'https://image.gscdn.nl/image/735937c82c_m...</td>\n",
       "      <td>144 reacties</td>\n",
       "      <td>@Mosterd</td>\n",
       "      <td>geenstijl.nl</td>\n",
       "      <td>https://www.geenstijl.nl/5156266/altijd-maar-w...</td>\n",
       "      <td>crossmotor, motorcrossen, culemborg</td>\n",
       "      <td>https://www.geenstijl.nl/sitemap.xml</td>\n",
       "      <td>In Culemblanca vrouw zwaargewond geraakt aanri...</td>\n",
       "    </tr>\n",
       "    <tr>\n",
       "      <th>41870</th>\n",
       "      <td>a5156265</td>\n",
       "      <td>Nijmegen frontlinie in Zwarte Piet-oorlog 2020</td>\n",
       "      <td>Het begint met een K en eindigt op inderfeest</td>\n",
       "      <td>Het ontheemde Nederlandse volk kan zich ook in...</td>\n",
       "      <td>NaN</td>\n",
       "      <td>2020-11-10 15:20:00</td>\n",
       "      <td>2020-11-12 14:52:28</td>\n",
       "      <td>NaN</td>\n",
       "      <td>253 reacties</td>\n",
       "      <td>@Mosterd</td>\n",
       "      <td>geenstijl.nl</td>\n",
       "      <td>https://www.geenstijl.nl/5156265/het-antwoord-...</td>\n",
       "      <td>sinterklaas, zwarte piet, sint, piet</td>\n",
       "      <td>https://www.geenstijl.nl/sitemap.xml</td>\n",
       "      <td>Het ontheemde Nederlandse volk corona onthoofd...</td>\n",
       "    </tr>\n",
       "  </tbody>\n",
       "</table>\n",
       "<p>3591 rows × 15 columns</p>\n",
       "</div>"
      ],
      "text/plain": [
       "             id                                              title  \\\n",
       "2      a5160517  Stamcafé Moppentap: Komt een transgender in ee...   \n",
       "13     a5160515           Ook al te wit gebakken: Hiske Versprille   \n",
       "21     a5160514  NRC-familie incl. kinderen aan oxazepam en dra...   \n",
       "30     a5160518       VS: Zoek het lekker zelf uit met die Taliban   \n",
       "44     a5160510  Even opletten allemaal. Implicaties vanwege he...   \n",
       "...         ...                                                ...   \n",
       "41822  a5156270  Video. Agent bezoekt Nieuwsgierige Nederlander...   \n",
       "41839  a5156232       MUZIEK! De nieuwe single van de Foo Fighters   \n",
       "41844  a5156271            Het Zwarte PietenJournaal van Omroep ON   \n",
       "41859  a5156266              ZOEK! Het baasje van deze crosswollah   \n",
       "41870  a5156265     Nijmegen frontlinie in Zwarte Piet-oorlog 2020   \n",
       "\n",
       "                                                  teaser  \\\n",
       "2                                                    NaN   \n",
       "13                                     Aan dialoogtafel!   \n",
       "21                                           Dit doen de   \n",
       "30                                     Niet ons probleem   \n",
       "44       Hallo ik wil graag dit doosje maden retourneren   \n",
       "...                                                  ...   \n",
       "41822            Even voorstellen: Flavio Pasquino van \"   \n",
       "41839                                 Hee Dave Chapelle!   \n",
       "41844                                           TRAILER!   \n",
       "41859  Klein groepje motorcrossers verpest het voor d...   \n",
       "41870      Het begint met een K en eindigt op inderfeest   \n",
       "\n",
       "                                                    text category  \\\n",
       "2      Okay. Nu volgt het meest 'Murica schrijverstaf...      NaN   \n",
       "13     \\n        \\n    \\n  \\n      Ook al \"te wit\": c...      NaN   \n",
       "21     \\n        \\n    \\n  \\n      Nu kennen we Ellen...      NaN   \n",
       "30     Pakt de Taliban na het vertrek van de VS hun l...      NaN   \n",
       "44     \\n        \\n    \\n  \\n      Fijn dat we jullie...      NaN   \n",
       "...                                                  ...      ...   \n",
       "41822  Flavio, een soort Mediterrane en minder passie...      NaN   \n",
       "41839  We kunnen het er met z'n allen wel over eens z...      NaN   \n",
       "41844  Ha! Daar is-ie. Het enige echte Zwarte Pieten ...      NaN   \n",
       "41859  \\n        \\n    \\n  \\n      In Culemblanca is ...      NaN   \n",
       "41870  Het ontheemde Nederlandse volk kan zich ook in...      NaN   \n",
       "\n",
       "      publication_date_time           created_at  \\\n",
       "2       2021-08-10 22:22:00  2021-08-10 23:00:05   \n",
       "13      2021-08-10 21:15:00  2021-08-10 23:00:04   \n",
       "21      2021-08-10 20:00:00  2021-08-10 23:00:04   \n",
       "30      2021-08-10 19:01:00  2021-08-10 23:00:04   \n",
       "44      2021-08-10 18:00:00  2021-08-10 23:00:05   \n",
       "...                     ...                  ...   \n",
       "41822   2020-11-10 19:33:00  2020-11-12 14:52:31   \n",
       "41839   2020-11-10 18:30:00  2020-11-12 14:52:31   \n",
       "41844   2020-11-10 17:35:00  2020-11-12 14:52:27   \n",
       "41859   2020-11-10 16:25:00  2020-11-12 14:52:27   \n",
       "41870   2020-11-10 15:20:00  2020-11-12 14:52:28   \n",
       "\n",
       "                                                  images     reactions  \\\n",
       "2                                                    NaN  116 reacties   \n",
       "13     {0: 'https://image.gscdn.nl/image/1ee226a383_k...  194 reacties   \n",
       "21     {0: 'https://image.gscdn.nl/image/83d5340e36_S...  394 reacties   \n",
       "30                                                   NaN  273 reacties   \n",
       "44     {0: 'https://image.gscdn.nl/image/9c6a748144_v...  107 reacties   \n",
       "...                                                  ...           ...   \n",
       "41822  {0: 'https://image.gscdn.nl/image/a039fecb4d_S...  465 reacties   \n",
       "41839                                                NaN  182 reacties   \n",
       "41844                                                NaN  276 reacties   \n",
       "41859  {0: 'https://image.gscdn.nl/image/735937c82c_m...  144 reacties   \n",
       "41870                                                NaN  253 reacties   \n",
       "\n",
       "             author       doctype  \\\n",
       "2       @Van Rossem  geenstijl.nl   \n",
       "13      @Van Rossem  geenstijl.nl   \n",
       "21       @Spartacus  geenstijl.nl   \n",
       "30     @Struikrover  geenstijl.nl   \n",
       "44         @Mosterd  geenstijl.nl   \n",
       "...             ...           ...   \n",
       "41822    @Spartacus  geenstijl.nl   \n",
       "41839      @Mosterd  geenstijl.nl   \n",
       "41844  @Pritt Stift  geenstijl.nl   \n",
       "41859      @Mosterd  geenstijl.nl   \n",
       "41870      @Mosterd  geenstijl.nl   \n",
       "\n",
       "                                                     url  \\\n",
       "2      https://www.geenstijl.nl/5160517/stamcafe-mopp...   \n",
       "13     https://www.geenstijl.nl/5160515/leefde-johann...   \n",
       "21     https://www.geenstijl.nl/5160514/na-mij-de-zon...   \n",
       "30     https://www.geenstijl.nl/5160518/vs-zoek-het-l...   \n",
       "44           https://www.geenstijl.nl/5160510/viswijven/   \n",
       "...                                                  ...   \n",
       "41822  https://www.geenstijl.nl/5156270/je-mag-niet-e...   \n",
       "41839        https://www.geenstijl.nl/5156232/foooooooo/   \n",
       "41844  https://www.geenstijl.nl/5156271/het-zwarte-pi...   \n",
       "41859  https://www.geenstijl.nl/5156266/altijd-maar-w...   \n",
       "41870  https://www.geenstijl.nl/5156265/het-antwoord-...   \n",
       "\n",
       "                                                    tags  \\\n",
       "2      it's a war out there man, americanism intensif...   \n",
       "13       wereldgerechten, woke, deegroller in je poepert   \n",
       "21                     klimaat, pretraumatisch, oxazepam   \n",
       "30                  afghanistan, taliban, tolken, oorlog   \n",
       "44                                  vissen, dobber, pier   \n",
       "...                                                  ...   \n",
       "41822                         politie , corona , noodwet   \n",
       "41839                   muziek, foo fighters, dave grohl   \n",
       "41844         ongehoord nederland, zwarte Piet, journaal   \n",
       "41859                crossmotor, motorcrossen, culemborg   \n",
       "41870               sinterklaas, zwarte piet, sint, piet   \n",
       "\n",
       "                                sitemap_url  \\\n",
       "2      https://www.geenstijl.nl/sitemap.xml   \n",
       "13     https://www.geenstijl.nl/sitemap.xml   \n",
       "21     https://www.geenstijl.nl/sitemap.xml   \n",
       "30     https://www.geenstijl.nl/sitemap.xml   \n",
       "44     https://www.geenstijl.nl/sitemap.xml   \n",
       "...                                     ...   \n",
       "41822  https://www.geenstijl.nl/sitemap.xml   \n",
       "41839  https://www.geenstijl.nl/sitemap.xml   \n",
       "41844  https://www.geenstijl.nl/sitemap.xml   \n",
       "41859  https://www.geenstijl.nl/sitemap.xml   \n",
       "41870  https://www.geenstijl.nl/sitemap.xml   \n",
       "\n",
       "                                              clean_text  \n",
       "2      Okay Nu volgt meest Murica schrijverstafereelt...  \n",
       "13     Ook te wit culinaire redacties En zomaar wit n...  \n",
       "21     Nu kennen we Ellen Deckwitz  een belangrijkste...  \n",
       "30     Pakt Taliban vertrek VS land eindelijk terug A...  \n",
       "44     Fijn we jullie aandacht hebben volgende even h...  \n",
       "...                                                  ...  \n",
       "41822  Flavio soort Mediterrane minder passiefagressi...  \n",
       "41839  We zn allen wel Foo Fighters grootste stadionr...  \n",
       "41844  Ha Daar isie Het enige echte Zwarte Pieten Jou...  \n",
       "41859  In Culemblanca vrouw zwaargewond geraakt aanri...  \n",
       "41870  Het ontheemde Nederlandse volk corona onthoofd...  \n",
       "\n",
       "[3591 rows x 15 columns]"
      ]
     },
     "execution_count": 25,
     "metadata": {},
     "output_type": "execute_result"
    }
   ],
   "source": [
    "df_geen = df[df['doctype']=='geenstijl.nl']\n",
    "df_geen"
   ]
  },
  {
   "cell_type": "code",
   "execution_count": 5,
   "metadata": {},
   "outputs": [
    {
     "data": {
      "text/plain": [
       "(23434, 16)"
      ]
     },
     "execution_count": 5,
     "metadata": {},
     "output_type": "execute_result"
    }
   ],
   "source": [
    "df = pd.read_csv('filtered_art.csv')\n",
    "df.shape"
   ]
  },
  {
   "cell_type": "code",
   "execution_count": 6,
   "metadata": {},
   "outputs": [
    {
     "data": {
      "text/plain": [
       "(2044, 16)"
      ]
     },
     "execution_count": 6,
     "metadata": {},
     "output_type": "execute_result"
    }
   ],
   "source": [
    "df_geen = df[df['doctype']=='geenstijl.nl']\n",
    "df_geen.shape"
   ]
  },
  {
   "cell_type": "code",
   "execution_count": 37,
   "metadata": {},
   "outputs": [
    {
     "data": {
      "text/plain": [
       "(252, 18)"
      ]
     },
     "execution_count": 37,
     "metadata": {},
     "output_type": "execute_result"
    }
   ],
   "source": [
    "df_nu = df[df['doctype']=='nu.nl']\n",
    "df_nu.shape"
   ]
  },
  {
   "cell_type": "code",
   "execution_count": 75,
   "metadata": {},
   "outputs": [
    {
     "name": "stdout",
     "output_type": "stream",
     "text": [
      "(500, 19)\n",
      "0.04051280655178725\n",
      "2.4359423063685424\n",
      "(500, 19)\n",
      "0.058808506173751274\n",
      "3.379119689996652\n"
     ]
    }
   ],
   "source": [
    "df = pd.read_csv('sample_ds_negativity_sentiment.csv')\n",
    "dfnu = df[df['doctype']=='nu.nl']\n",
    "print(dfnu.shape)\n",
    "print(dfnu['normalized_score'].mean())\n",
    "print(dfnu['negativity_score'].mean())\n",
    "dfgeen = df[df['doctype']=='geenstijl.nl']\n",
    "print(dfgeen.shape)\n",
    "print(dfgeen['normalized_score'].mean())\n",
    "print(dfgeen['negativity_score'].mean())"
   ]
  },
  {
   "cell_type": "code",
   "execution_count": 76,
   "metadata": {},
   "outputs": [
    {
     "name": "stdout",
     "output_type": "stream",
     "text": [
      "(528, 20)\n",
      "0.15867944738079204\n",
      "2.754626341102918\n",
      "(223, 20)\n",
      "0.20540152152669605\n",
      "3.33324768850482\n"
     ]
    }
   ],
   "source": [
    "df = pd.read_csv('filtered_outgroups_negativity_sentiment.csv')\n",
    "dfnu = df[df['doctype']=='nu.nl']\n",
    "print(dfnu.shape)\n",
    "print(dfnu['normalized_score'].mean())\n",
    "print(dfnu['negativity_score'].mean())\n",
    "dfgeen = df[df['doctype']=='geenstijl.nl']\n",
    "print(dfgeen.shape)\n",
    "print(dfgeen['normalized_score'].mean())\n",
    "print(dfgeen['negativity_score'].mean())"
   ]
  },
  {
   "cell_type": "code",
   "execution_count": 77,
   "metadata": {},
   "outputs": [
    {
     "name": "stdout",
     "output_type": "stream",
     "text": [
      "(252, 21)\n",
      "0.16083444451277631\n",
      "2.781314525798275\n",
      "(128, 21)\n",
      "0.21873515508690394\n",
      "3.498375738947916\n"
     ]
    }
   ],
   "source": [
    "df = pd.read_csv('outNL_negativity_sentiment.csv')\n",
    "dfnu = df[df['doctype']=='nu.nl']\n",
    "print(dfnu.shape)\n",
    "print(dfnu['normalized_score'].mean())\n",
    "print(dfnu['negativity_score'].mean())\n",
    "dfgeen = df[df['doctype']=='geenstijl.nl']\n",
    "print(dfgeen.shape)\n",
    "print(dfgeen['normalized_score'].mean())\n",
    "print(dfgeen['negativity_score'].mean())"
   ]
  },
  {
   "cell_type": "code",
   "execution_count": 6,
   "metadata": {},
   "outputs": [
    {
     "name": "stdout",
     "output_type": "stream",
     "text": [
      "1.5360199767784042\n",
      "5.612810073811331\n",
      "2.781314525798275\n"
     ]
    }
   ],
   "source": [
    "df = pd.read_csv('outNL_negativity_sentiment.csv')\n",
    "dfnu = df[df['doctype']=='nu.nl']\n",
    "print(dfnu['negativity_score'].min())\n",
    "print(dfnu['negativity_score'].max())\n",
    "print(dfnu['negativity_score'].mean())"
   ]
  },
  {
   "cell_type": "markdown",
   "metadata": {},
   "source": [
    "###########"
   ]
  },
  {
   "cell_type": "code",
   "execution_count": 1,
   "metadata": {},
   "outputs": [],
   "source": [
    "import pandas as pd\n",
    "import re\n"
   ]
  },
  {
   "cell_type": "code",
   "execution_count": 2,
   "metadata": {},
   "outputs": [
    {
     "name": "stdout",
     "output_type": "stream",
     "text": [
      "(192, 18)\n",
      "Muslim in geenstij in out: (86, 18)\n",
      "Muslim in nu in out: (106, 18)\n",
      "(93, 19)\n",
      "Muslim in geenstij in outNL: (45, 19)\n",
      "Muslim in nu in outNL: (48, 19)\n"
     ]
    }
   ],
   "source": [
    "def filter_mos(df):\n",
    "    list = [r'moslim']\n",
    "    for index, row in df.iterrows():\n",
    "        df.loc[index, 'moslim'] = 0\n",
    "        for word in list:\n",
    "            if re.search(word, df.loc[index, 'text']):\n",
    "                df.loc[index, 'moslim'] = 1\n",
    "\n",
    "    df = df[df['moslim'] == 1]\n",
    "    print(df.shape)\n",
    "    return df\n",
    "\n",
    "#######################################################\n",
    "df = pd.read_csv('filtered_out.csv')\n",
    "df['text'] = df['text'].str.lower()\n",
    "df_muslim = filter_mos(df)\n",
    "\n",
    "df_muslim_geen = df_muslim[df_muslim['doctype']=='geenstijl.nl']\n",
    "print(\"Muslim in geenstij in out:\", df_muslim_geen.shape)\n",
    "\n",
    "df_muslim_nu = df_muslim[df_muslim['doctype']=='nu.nl']\n",
    "print(\"Muslim in nu in out:\", df_muslim_nu.shape)\n",
    "\n",
    "######################################################\n",
    "df = pd.read_csv('filtered_outNL.csv')\n",
    "df['text'] = df['text'].str.lower()\n",
    "df_muslim = filter_mos(df)\n",
    "\n",
    "df_muslim_geen = df_muslim[df_muslim['doctype']=='geenstijl.nl']\n",
    "print(\"Muslim in geenstij in outNL:\", df_muslim_geen.shape)\n",
    "\n",
    "df_muslim_nu = df_muslim[df_muslim['doctype']=='nu.nl']\n",
    "print(\"Muslim in nu in outNL:\", df_muslim_nu.shape)\n",
    "\n"
   ]
  },
  {
   "cell_type": "markdown",
   "metadata": {},
   "source": [
    "*************************************"
   ]
  },
  {
   "cell_type": "code",
   "execution_count": 3,
   "metadata": {},
   "outputs": [
    {
     "name": "stdout",
     "output_type": "stream",
     "text": [
      "(18, 18)\n",
      "Ethiopia  in geenstij in out: (0, 18)\n",
      "Ethiopia  in nu in out: (18, 18)\n",
      "(7, 19)\n",
      "Ethiopia  in geenstij in out: (0, 19)\n",
      "Ethiopia  in nu in out: (7, 19)\n"
     ]
    }
   ],
   "source": [
    "def filter_eth(df):\n",
    "    list = [r'ethiop']\n",
    "    for index, row in df.iterrows():\n",
    "        df.loc[index, 'ethiop'] = 0\n",
    "        for word in list:\n",
    "            if re.search(word, df.loc[index, 'text']):\n",
    "                df.loc[index, 'ethiop'] = 1\n",
    "\n",
    "    df = df[df['ethiop'] == 1]\n",
    "    print(df.shape)\n",
    "    return df\n",
    "###############################################\n",
    "df = pd.read_csv('filtered_out.csv')\n",
    "df['text'] = df['text'].str.lower()\n",
    "df_eth = filter_eth(df)\n",
    "\n",
    "df_eth_geen = df_eth[df_eth['doctype']=='geenstijl.nl']\n",
    "print(\"Ethiopia  in geenstij in out:\", df_eth_geen.shape)\n",
    "\n",
    "df_eth_nu = df_eth[df_eth['doctype']=='nu.nl']\n",
    "print(\"Ethiopia  in nu in out:\", df_eth_nu.shape)\n",
    "\n",
    "##############################################################\n",
    "df = pd.read_csv('filtered_outNL.csv')\n",
    "df['text'] = df['text'].str.lower()\n",
    "df_eth = filter_eth(df)\n",
    "\n",
    "df_eth_geen = df_eth[df_eth['doctype']=='geenstijl.nl']\n",
    "print(\"Ethiopia  in geenstij in out:\", df_eth_geen.shape)\n",
    "\n",
    "df_eth_nu = df_eth[df_eth['doctype']=='nu.nl']\n",
    "print(\"Ethiopia  in nu in out:\", df_eth_nu.shape)\n",
    "\n"
   ]
  },
  {
   "cell_type": "markdown",
   "metadata": {},
   "source": [
    "*************************************"
   ]
  },
  {
   "cell_type": "code",
   "execution_count": 4,
   "metadata": {},
   "outputs": [
    {
     "name": "stdout",
     "output_type": "stream",
     "text": [
      "(8, 18)\n",
      "pakistan  in geenstij in out: (2, 18)\n",
      "pakistan  in nu in out: (6, 18)\n",
      "(4, 19)\n",
      "pakistan  in geenstij in out: (0, 19)\n",
      "pakistan  in nu in out: (4, 19)\n"
     ]
    }
   ],
   "source": [
    "def filter_pak(df):\n",
    "    list = [r'pakista']\n",
    "    for index, row in df.iterrows():\n",
    "        df.loc[index, 'pakista'] = 0\n",
    "        for word in list:\n",
    "            if re.search(word, df.loc[index, 'text']):\n",
    "                df.loc[index, 'pakista'] = 1\n",
    "\n",
    "    df = df[df['pakista'] == 1]\n",
    "    print(df.shape)\n",
    "    return df\n",
    "\n",
    "#######################################################\n",
    "df = pd.read_csv('filtered_out.csv')\n",
    "df['text'] = df['text'].str.lower()\n",
    "df_pak = filter_pak(df)\n",
    "df_pak_geen = df_pak[df_pak['doctype']=='geenstijl.nl']\n",
    "print(\"pakistan  in geenstij in out:\", df_pak_geen.shape)\n",
    "\n",
    "df_pak_nu = df_pak[df_pak['doctype']=='nu.nl']\n",
    "print(\"pakistan  in nu in out:\", df_pak_nu.shape)\n",
    "\n",
    "#######################################################\n",
    "df = pd.read_csv('filtered_outNL.csv')\n",
    "df['text'] = df['text'].str.lower()\n",
    "df_pak = filter_pak(df)\n",
    "df_pak_geen = df_pak[df_pak['doctype']=='geenstijl.nl']\n",
    "print(\"pakistan  in geenstij in out:\", df_pak_geen.shape)\n",
    "\n",
    "df_pak_nu = df_pak[df_pak['doctype']=='nu.nl']\n",
    "print(\"pakistan  in nu in out:\", df_pak_nu.shape)"
   ]
  },
  {
   "cell_type": "markdown",
   "metadata": {},
   "source": [
    "**********************************************************"
   ]
  },
  {
   "cell_type": "code",
   "execution_count": 5,
   "metadata": {},
   "outputs": [
    {
     "name": "stdout",
     "output_type": "stream",
     "text": [
      "(13, 18)\n",
      "Iraq  in geenstij in out: (4, 18)\n",
      "iraq  in nu in out: (9, 18)\n",
      "(6, 19)\n",
      "iraq  in geenstij in out: (2, 19)\n",
      "iraq  in nu in out: (4, 19)\n"
     ]
    }
   ],
   "source": [
    "def filter_iraq(df):\n",
    "    list = [r'irak', 'iraak']\n",
    "    for index, row in df.iterrows():\n",
    "        df.loc[index, 'iraq'] = 0\n",
    "        for word in list:\n",
    "            if re.search(word, df.loc[index, 'text']):\n",
    "                df.loc[index, 'iraq'] = 1\n",
    "\n",
    "    df = df[df['iraq'] == 1]\n",
    "    print(df.shape)\n",
    "    return df\n",
    "\n",
    "#######################################################\n",
    "df = pd.read_csv('filtered_out.csv')\n",
    "df['text'] = df['text'].str.lower()\n",
    "df_iraq = filter_iraq(df)\n",
    "df_iraq_geen = df_iraq[df_iraq['doctype']=='geenstijl.nl']\n",
    "print(\"Iraq  in geenstij in out:\", df_iraq_geen.shape)\n",
    "\n",
    "df_iraq_nu = df_iraq[df_iraq['doctype']=='nu.nl']\n",
    "print(\"iraq  in nu in out:\", df_iraq_nu.shape)\n",
    "\n",
    "#######################################################\n",
    "df = pd.read_csv('filtered_outNL.csv')\n",
    "df['text'] = df['text'].str.lower()\n",
    "df_iraq = filter_iraq(df)\n",
    "df_iraq_geen = df_iraq[df_iraq['doctype']=='geenstijl.nl']\n",
    "print(\"iraq  in geenstij in out:\", df_iraq_geen.shape)\n",
    "\n",
    "df_iraq_nu = df_iraq[df_iraq['doctype']=='nu.nl']\n",
    "print(\"iraq  in nu in out:\", df_iraq_nu.shape)"
   ]
  },
  {
   "cell_type": "code",
   "execution_count": 6,
   "metadata": {},
   "outputs": [
    {
     "name": "stdout",
     "output_type": "stream",
     "text": [
      "(20, 18)\n",
      "iran  in geenstij in out: (5, 18)\n",
      "iran  in nu in out: (15, 18)\n",
      "(8, 19)\n",
      "iran  in geenstij in out: (2, 19)\n",
      "iran  in nu in out: (6, 19)\n"
     ]
    }
   ],
   "source": [
    "def filter_iran(df):\n",
    "    list = [r'iran', 'iraan']\n",
    "    for index, row in df.iterrows():\n",
    "        df.loc[index, 'iran'] = 0\n",
    "        for word in list:\n",
    "            if re.search(word, df.loc[index, 'text']):\n",
    "                df.loc[index, 'iran'] = 1\n",
    "\n",
    "    df = df[df['iran'] == 1]\n",
    "    print(df.shape)\n",
    "    return df\n",
    "\n",
    "#######################################################\n",
    "df = pd.read_csv('filtered_out.csv')\n",
    "df['text'] = df['text'].str.lower()\n",
    "df_iran = filter_iran(df)\n",
    "df_iran_geen = df_iran[df_iran['doctype']=='geenstijl.nl']\n",
    "print(\"iran  in geenstij in out:\", df_iran_geen.shape)\n",
    "\n",
    "df_iran_nu = df_iran[df_iran['doctype']=='nu.nl']\n",
    "print(\"iran  in nu in out:\", df_iran_nu.shape)\n",
    "\n",
    "#######################################################\n",
    "df = pd.read_csv('filtered_outNL.csv')\n",
    "df['text'] = df['text'].str.lower()\n",
    "df_iran = filter_iran(df)\n",
    "df_iran_geen = df_iran[df_iran['doctype']=='geenstijl.nl']\n",
    "print(\"iran  in geenstij in out:\", df_iran_geen.shape)\n",
    "\n",
    "df_iran_nu = df_iran[df_iran['doctype']=='nu.nl']\n",
    "print(\"iran  in nu in out:\", df_iran_nu.shape)"
   ]
  },
  {
   "cell_type": "code",
   "execution_count": 7,
   "metadata": {},
   "outputs": [
    {
     "name": "stdout",
     "output_type": "stream",
     "text": [
      "(27, 18)\n",
      "Afghanistan  in geenstij in out: (2, 18)\n",
      "Afghanistan  in nu in out: (25, 18)\n",
      "(18, 19)\n",
      "Afghanistan  in geenstij in out: (2, 19)\n",
      "Afghanistan  in nu in out: (16, 19)\n"
     ]
    }
   ],
   "source": [
    "def filter_Afghanistan(df):\n",
    "    list = [r'afgha']\n",
    "    for index, row in df.iterrows():\n",
    "        df.loc[index, 'Afghanistan'] = 0\n",
    "        for word in list:\n",
    "            if re.search(word, df.loc[index, 'text']):\n",
    "                df.loc[index, 'Afghanistan'] = 1\n",
    "\n",
    "    df = df[df['Afghanistan'] == 1]\n",
    "    print(df.shape)\n",
    "    return df\n",
    "\n",
    "#######################################################\n",
    "df = pd.read_csv('filtered_out.csv')\n",
    "df['text'] = df['text'].str.lower()\n",
    "df_Afghanistan = filter_Afghanistan(df)\n",
    "df_Afghanistan_geen = df_Afghanistan[df_Afghanistan['doctype']=='geenstijl.nl']\n",
    "print(\"Afghanistan  in geenstij in out:\", df_Afghanistan_geen.shape)\n",
    "\n",
    "df_Afghanistan_nu = df_Afghanistan[df_Afghanistan['doctype']=='nu.nl']\n",
    "print(\"Afghanistan  in nu in out:\", df_Afghanistan_nu.shape)\n",
    "\n",
    "#######################################################\n",
    "df = pd.read_csv('filtered_outNL.csv')\n",
    "df['text'] = df['text'].str.lower()\n",
    "df_Afghanistan = filter_Afghanistan(df)\n",
    "df_Afghanistan_geen = df_Afghanistan[df_Afghanistan['doctype']=='geenstijl.nl']\n",
    "print(\"Afghanistan  in geenstij in out:\", df_Afghanistan_geen.shape)\n",
    "\n",
    "df_Afghanistan_nu = df_Afghanistan[df_Afghanistan['doctype']=='nu.nl']\n",
    "print(\"Afghanistan  in nu in out:\", df_Afghanistan_nu.shape)"
   ]
  },
  {
   "cell_type": "code",
   "execution_count": 8,
   "metadata": {},
   "outputs": [
    {
     "name": "stdout",
     "output_type": "stream",
     "text": [
      "(67, 18)\n",
      "Turkey  in geenstij in out: (19, 18)\n",
      "Turkey  in nu in out: (48, 18)\n",
      "(40, 19)\n",
      "Turkey  in geenstij in out: (11, 19)\n",
      "Turkey  in nu in out: (29, 19)\n"
     ]
    }
   ],
   "source": [
    "def filter_Turkey(df):\n",
    "    list = [r'turk']\n",
    "    for index, row in df.iterrows():\n",
    "        df.loc[index, 'Turkey'] = 0\n",
    "        for word in list:\n",
    "            if re.search(word, df.loc[index, 'text']):\n",
    "                df.loc[index, 'Turkey'] = 1\n",
    "\n",
    "    df = df[df['Turkey'] == 1]\n",
    "    print(df.shape)\n",
    "    return df\n",
    "\n",
    "#######################################################\n",
    "df = pd.read_csv('filtered_out.csv')\n",
    "df['text'] = df['text'].str.lower()\n",
    "df_Turkey = filter_Turkey(df)\n",
    "df_Turkey_geen = df_Turkey[df_Turkey['doctype']=='geenstijl.nl']\n",
    "print(\"Turkey  in geenstij in out:\", df_Turkey_geen.shape)\n",
    "\n",
    "df_Turkey_nu = df_Turkey[df_Turkey['doctype']=='nu.nl']\n",
    "print(\"Turkey  in nu in out:\", df_Turkey_nu.shape)\n",
    "\n",
    "#######################################################\n",
    "df = pd.read_csv('filtered_outNL.csv')\n",
    "df['text'] = df['text'].str.lower()\n",
    "df_Turkey = filter_Turkey(df)\n",
    "df_Turkey_geen = df_Turkey[df_Turkey['doctype']=='geenstijl.nl']\n",
    "print(\"Turkey  in geenstij in out:\", df_Turkey_geen.shape)\n",
    "\n",
    "df_Turkey_nu = df_Turkey[df_Turkey['doctype']=='nu.nl']\n",
    "print(\"Turkey  in nu in out:\", df_Turkey_nu.shape)"
   ]
  },
  {
   "cell_type": "code",
   "execution_count": 9,
   "metadata": {},
   "outputs": [
    {
     "name": "stdout",
     "output_type": "stream",
     "text": [
      "(46, 18)\n",
      "Morocco  in geenstij in out: (20, 18)\n",
      "Morocco  in nu in out: (26, 18)\n",
      "(31, 19)\n",
      "Morocco  in geenstij in out: (14, 19)\n",
      "Morocco  in nu in out: (17, 19)\n"
     ]
    }
   ],
   "source": [
    "def filter_Morocco(df):\n",
    "    list = [r'marok']\n",
    "    for index, row in df.iterrows():\n",
    "        df.loc[index, 'Morocco'] = 0\n",
    "        for word in list:\n",
    "            if re.search(word, df.loc[index, 'text']):\n",
    "                df.loc[index, 'Morocco'] = 1\n",
    "\n",
    "    df = df[df['Morocco'] == 1]\n",
    "    print(df.shape)\n",
    "    return df\n",
    "\n",
    "#######################################################\n",
    "df = pd.read_csv('filtered_out.csv')\n",
    "df['text'] = df['text'].str.lower()\n",
    "df_Morocco = filter_Morocco(df)\n",
    "df_Morocco_geen = df_Morocco[df_Morocco['doctype']=='geenstijl.nl']\n",
    "print(\"Morocco  in geenstij in out:\", df_Morocco_geen.shape)\n",
    "\n",
    "df_Morocco_nu = df_Morocco[df_Morocco['doctype']=='nu.nl']\n",
    "print(\"Morocco  in nu in out:\", df_Morocco_nu.shape)\n",
    "\n",
    "#######################################################\n",
    "df = pd.read_csv('filtered_outNL.csv')\n",
    "df['text'] = df['text'].str.lower()\n",
    "df_Morocco = filter_Morocco(df)\n",
    "df_Morocco_geen = df_Morocco[df_Morocco['doctype']=='geenstijl.nl']\n",
    "print(\"Morocco  in geenstij in out:\", df_Morocco_geen.shape)\n",
    "\n",
    "df_Morocco_nu = df_Morocco[df_Morocco['doctype']=='nu.nl']\n",
    "print(\"Morocco  in nu in out:\", df_Morocco_nu.shape)"
   ]
  },
  {
   "cell_type": "code",
   "execution_count": 10,
   "metadata": {},
   "outputs": [
    {
     "name": "stdout",
     "output_type": "stream",
     "text": [
      "(7, 18)\n",
      "Indonesia  in geenstij in out: (0, 18)\n",
      "Indonesia  in nu in out: (7, 18)\n",
      "(5, 19)\n",
      "Indonesia  in geenstij in out: (0, 19)\n",
      "Indonesia  in nu in out: (5, 19)\n"
     ]
    }
   ],
   "source": [
    "def filter_Indonesia(df):\n",
    "    list = [r'indon', 'moluk']\n",
    "    for index, row in df.iterrows():\n",
    "        df.loc[index, 'Indonesia'] = 0\n",
    "        for word in list:\n",
    "            if re.search(word, df.loc[index, 'text']):\n",
    "                df.loc[index, 'Indonesia'] = 1\n",
    "\n",
    "    df = df[df['Indonesia'] == 1]\n",
    "    print(df.shape)\n",
    "    return df\n",
    "\n",
    "#######################################################\n",
    "df = pd.read_csv('filtered_out.csv')\n",
    "df['text'] = df['text'].str.lower()\n",
    "df_Indonesia = filter_Indonesia(df)\n",
    "df_Indonesia_geen = df_Indonesia[df_Indonesia['doctype']=='geenstijl.nl']\n",
    "print(\"Indonesia  in geenstij in out:\", df_Indonesia_geen.shape)\n",
    "\n",
    "df_Indonesia_nu = df_Indonesia[df_Indonesia['doctype']=='nu.nl']\n",
    "print(\"Indonesia  in nu in out:\", df_Indonesia_nu.shape)\n",
    "\n",
    "#######################################################\n",
    "df = pd.read_csv('filtered_outNL.csv')\n",
    "df['text'] = df['text'].str.lower()\n",
    "df_Indonesia = filter_Indonesia(df)\n",
    "df_Indonesia_geen = df_Indonesia[df_Indonesia['doctype']=='geenstijl.nl']\n",
    "print(\"Indonesia  in geenstij in out:\", df_Indonesia_geen.shape)\n",
    "\n",
    "df_Indonesia_nu = df_Indonesia[df_Indonesia['doctype']=='nu.nl']\n",
    "print(\"Indonesia  in nu in out:\", df_Indonesia_nu.shape)"
   ]
  },
  {
   "cell_type": "code",
   "execution_count": 11,
   "metadata": {},
   "outputs": [
    {
     "name": "stdout",
     "output_type": "stream",
     "text": [
      "(7, 18)\n",
      "Suriname  in geenstij in out: (1, 18)\n",
      "Suriname  in nu in out: (6, 18)\n",
      "(5, 19)\n",
      "Suriname  in geenstij in out: (1, 19)\n",
      "Suriname  in nu in out: (4, 19)\n"
     ]
    }
   ],
   "source": [
    "def filter_Suriname(df):\n",
    "    list = [r'surin']\n",
    "    for index, row in df.iterrows():\n",
    "        df.loc[index, 'Suriname'] = 0\n",
    "        for word in list:\n",
    "            if re.search(word, df.loc[index, 'text']):\n",
    "                df.loc[index, 'Suriname'] = 1\n",
    "\n",
    "    df = df[df['Suriname'] == 1]\n",
    "    print(df.shape)\n",
    "    return df\n",
    "\n",
    "#######################################################\n",
    "df = pd.read_csv('filtered_out.csv')\n",
    "df['text'] = df['text'].str.lower()\n",
    "df_Suriname = filter_Suriname(df)\n",
    "df_Suriname_geen = df_Suriname[df_Suriname['doctype']=='geenstijl.nl']\n",
    "print(\"Suriname  in geenstij in out:\", df_Suriname_geen.shape)\n",
    "\n",
    "df_Suriname_nu = df_Suriname[df_Suriname['doctype']=='nu.nl']\n",
    "print(\"Suriname  in nu in out:\", df_Suriname_nu.shape)\n",
    "\n",
    "#######################################################\n",
    "df = pd.read_csv('filtered_outNL.csv')\n",
    "df['text'] = df['text'].str.lower()\n",
    "df_Suriname = filter_Suriname(df)\n",
    "df_Suriname_geen = df_Suriname[df_Suriname['doctype']=='geenstijl.nl']\n",
    "print(\"Suriname  in geenstij in out:\", df_Suriname_geen.shape)\n",
    "\n",
    "df_Suriname_nu = df_Suriname[df_Suriname['doctype']=='nu.nl']\n",
    "print(\"Suriname  in nu in out:\", df_Suriname_nu.shape)"
   ]
  },
  {
   "cell_type": "code",
   "execution_count": 12,
   "metadata": {},
   "outputs": [
    {
     "name": "stdout",
     "output_type": "stream",
     "text": [
      "(2, 18)\n",
      "DutchAntilles  in geenstij in out: (0, 18)\n",
      "DutchAntilles  in nu in out: (2, 18)\n",
      "(1, 19)\n",
      "DutchAntilles  in geenstij in out: (0, 19)\n",
      "DutchAntilles  in nu in out: (1, 19)\n"
     ]
    }
   ],
   "source": [
    "def filter_DutchAntilles(df):\n",
    "    list = [r'antill', 'curaçao','aruba', 'saba', 'bonaire', 'sint maarten', 'sint eustatius', 'caribisch nederland']\n",
    "    for index, row in df.iterrows():\n",
    "        df.loc[index, 'DutchAntilles'] = 0\n",
    "        for word in list:\n",
    "            if re.search(word, df.loc[index, 'text']):\n",
    "                df.loc[index, 'DutchAntilles'] = 1\n",
    "\n",
    "    df = df[df['DutchAntilles'] == 1]\n",
    "    print(df.shape)\n",
    "    return df\n",
    "\n",
    "#######################################################\n",
    "df = pd.read_csv('filtered_out.csv')\n",
    "df['text'] = df['text'].str.lower()\n",
    "df_DutchAntilles = filter_DutchAntilles(df)\n",
    "df_DutchAntilles_geen = df_DutchAntilles[df_DutchAntilles['doctype']=='geenstijl.nl']\n",
    "print(\"DutchAntilles  in geenstij in out:\", df_DutchAntilles_geen.shape)\n",
    "\n",
    "df_DutchAntilles_nu = df_DutchAntilles[df_DutchAntilles['doctype']=='nu.nl']\n",
    "print(\"DutchAntilles  in nu in out:\", df_DutchAntilles_nu.shape)\n",
    "\n",
    "#######################################################\n",
    "df = pd.read_csv('filtered_outNL.csv')\n",
    "df['text'] = df['text'].str.lower()\n",
    "df_DutchAntilles = filter_DutchAntilles(df)\n",
    "df_DutchAntilles_geen = df_DutchAntilles[df_DutchAntilles['doctype']=='geenstijl.nl']\n",
    "print(\"DutchAntilles  in geenstij in out:\", df_DutchAntilles_geen.shape)\n",
    "\n",
    "df_DutchAntilles_nu = df_DutchAntilles[df_DutchAntilles['doctype']=='nu.nl']\n",
    "print(\"DutchAntilles  in nu in out:\", df_DutchAntilles_nu.shape)"
   ]
  },
  {
   "cell_type": "code",
   "execution_count": 13,
   "metadata": {},
   "outputs": [
    {
     "name": "stdout",
     "output_type": "stream",
     "text": [
      "(8, 18)\n",
      "Somalia  in geenstij in out: (0, 18)\n",
      "Somalia  in nu in out: (8, 18)\n",
      "(3, 19)\n",
      "Somalia  in geenstij in out: (0, 19)\n",
      "Somalia  in nu in out: (3, 19)\n"
     ]
    }
   ],
   "source": [
    "def filter_Somalia(df):\n",
    "    list = [r'somali']\n",
    "    for index, row in df.iterrows():\n",
    "        df.loc[index, 'Somalia'] = 0\n",
    "        for word in list:\n",
    "            if re.search(word, df.loc[index, 'text']):\n",
    "                df.loc[index, 'Somalia'] = 1\n",
    "\n",
    "    df = df[df['Somalia'] == 1]\n",
    "    print(df.shape)\n",
    "    return df\n",
    "\n",
    "#######################################################\n",
    "df = pd.read_csv('filtered_out.csv')\n",
    "df['text'] = df['text'].str.lower()\n",
    "df_Somalia = filter_Somalia(df)\n",
    "df_Somalia_geen = df_Somalia[df_Somalia['doctype']=='geenstijl.nl']\n",
    "print(\"Somalia  in geenstij in out:\", df_Somalia_geen.shape)\n",
    "\n",
    "df_Somalia_nu = df_Somalia[df_Somalia['doctype']=='nu.nl']\n",
    "print(\"Somalia  in nu in out:\", df_Somalia_nu.shape)\n",
    "\n",
    "#######################################################\n",
    "df = pd.read_csv('filtered_outNL.csv')\n",
    "df['text'] = df['text'].str.lower()\n",
    "df_Somalia = filter_Somalia(df)\n",
    "df_Somalia_geen = df_Somalia[df_Somalia['doctype']=='geenstijl.nl']\n",
    "print(\"Somalia  in geenstij in out:\", df_Somalia_geen.shape)\n",
    "\n",
    "df_Somalia_nu = df_Somalia[df_Somalia['doctype']=='nu.nl']\n",
    "print(\"Somalia  in nu in out:\", df_Somalia_nu.shape)"
   ]
  },
  {
   "cell_type": "code",
   "execution_count": 14,
   "metadata": {},
   "outputs": [
    {
     "name": "stdout",
     "output_type": "stream",
     "text": [
      "(52, 18)\n",
      "Syria  in geenstij in out: (9, 18)\n",
      "Syria  in nu in out: (43, 18)\n",
      "(30, 19)\n",
      "Syria  in geenstij in out: (4, 19)\n",
      "Syria  in nu in out: (26, 19)\n"
     ]
    }
   ],
   "source": [
    "def filter_Syria(df):\n",
    "    list = [r'syri']\n",
    "    for index, row in df.iterrows():\n",
    "        df.loc[index, 'Syria'] = 0\n",
    "        for word in list:\n",
    "            if re.search(word, df.loc[index, 'text']):\n",
    "                df.loc[index, 'Syria'] = 1\n",
    "\n",
    "    df = df[df['Syria'] == 1]\n",
    "    print(df.shape)\n",
    "    return df\n",
    "\n",
    "#######################################################\n",
    "df = pd.read_csv('filtered_out.csv')\n",
    "df['text'] = df['text'].str.lower()\n",
    "df_Syria = filter_Syria(df)\n",
    "df_Syria_geen = df_Syria[df_Syria['doctype']=='geenstijl.nl']\n",
    "print(\"Syria  in geenstij in out:\", df_Syria_geen.shape)\n",
    "\n",
    "df_Syria_nu = df_Syria[df_Syria['doctype']=='nu.nl']\n",
    "print(\"Syria  in nu in out:\", df_Syria_nu.shape)\n",
    "\n",
    "#######################################################\n",
    "df = pd.read_csv('filtered_outNL.csv')\n",
    "df['text'] = df['text'].str.lower()\n",
    "df_Syria = filter_Syria(df)\n",
    "df_Syria_geen = df_Syria[df_Syria['doctype']=='geenstijl.nl']\n",
    "print(\"Syria  in geenstij in out:\", df_Syria_geen.shape)\n",
    "\n",
    "df_Syria_nu = df_Syria[df_Syria['doctype']=='nu.nl']\n",
    "print(\"Syria  in nu in out:\", df_Syria_nu.shape)"
   ]
  },
  {
   "cell_type": "code",
   "execution_count": 15,
   "metadata": {},
   "outputs": [
    {
     "name": "stdout",
     "output_type": "stream",
     "text": [
      "(3, 18)\n",
      "Bulgaria  in geenstij in out: (1, 18)\n",
      "Bulgaria  in nu in out: (2, 18)\n",
      "(2, 19)\n",
      "Bulgaria  in geenstij in out: (1, 19)\n",
      "Bulgaria  in nu in out: (1, 19)\n"
     ]
    }
   ],
   "source": [
    "def filter_Bulgaria(df):\n",
    "    list = [r'bulga']\n",
    "    for index, row in df.iterrows():\n",
    "        df.loc[index, 'Bulgaria'] = 0\n",
    "        for word in list:\n",
    "            if re.search(word, df.loc[index, 'text']):\n",
    "                df.loc[index, 'Bulgaria'] = 1\n",
    "\n",
    "    df = df[df['Bulgaria'] == 1]\n",
    "    print(df.shape)\n",
    "    return df\n",
    "\n",
    "#######################################################\n",
    "df = pd.read_csv('filtered_out.csv')\n",
    "df['text'] = df['text'].str.lower()\n",
    "df_Bulgaria = filter_Bulgaria(df)\n",
    "df_Bulgaria_geen = df_Bulgaria[df_Bulgaria['doctype']=='geenstijl.nl']\n",
    "print(\"Bulgaria  in geenstij in out:\", df_Bulgaria_geen.shape)\n",
    "\n",
    "df_Bulgaria_nu = df_Bulgaria[df_Bulgaria['doctype']=='nu.nl']\n",
    "print(\"Bulgaria  in nu in out:\", df_Bulgaria_nu.shape)\n",
    "\n",
    "#######################################################\n",
    "df = pd.read_csv('filtered_outNL.csv')\n",
    "df['text'] = df['text'].str.lower()\n",
    "df_Bulgaria = filter_Bulgaria(df)\n",
    "df_Bulgaria_geen = df_Bulgaria[df_Bulgaria['doctype']=='geenstijl.nl']\n",
    "print(\"Bulgaria  in geenstij in out:\", df_Bulgaria_geen.shape)\n",
    "\n",
    "df_Bulgaria_nu = df_Bulgaria[df_Bulgaria['doctype']=='nu.nl']\n",
    "print(\"Bulgaria  in nu in out:\", df_Bulgaria_nu.shape)"
   ]
  },
  {
   "cell_type": "code",
   "execution_count": 16,
   "metadata": {},
   "outputs": [
    {
     "name": "stdout",
     "output_type": "stream",
     "text": [
      "(47, 18)\n",
      "China  in geenstij in out: (13, 18)\n",
      "China  in nu in out: (34, 18)\n",
      "(32, 19)\n",
      "China  in geenstij in out: (10, 19)\n",
      "China  in nu in out: (22, 19)\n"
     ]
    }
   ],
   "source": [
    "def filter_China(df):\n",
    "    list = [r'china', 'chine']\n",
    "    for index, row in df.iterrows():\n",
    "        df.loc[index, 'China'] = 0\n",
    "        for word in list:\n",
    "            if re.search(word, df.loc[index, 'text']):\n",
    "                df.loc[index, 'China'] = 1\n",
    "\n",
    "    df = df[df['China'] == 1]\n",
    "    print(df.shape)\n",
    "    return df\n",
    "\n",
    "#######################################################\n",
    "df = pd.read_csv('filtered_out.csv')\n",
    "df['text'] = df['text'].str.lower()\n",
    "df_China = filter_China(df)\n",
    "df_China_geen = df_China[df_China['doctype']=='geenstijl.nl']\n",
    "print(\"China  in geenstij in out:\", df_China_geen.shape)\n",
    "\n",
    "df_China_nu = df_China[df_China['doctype']=='nu.nl']\n",
    "print(\"China  in nu in out:\", df_China_nu.shape)\n",
    "\n",
    "#######################################################\n",
    "df = pd.read_csv('filtered_outNL.csv')\n",
    "df['text'] = df['text'].str.lower()\n",
    "df_China = filter_China(df)\n",
    "df_China_geen = df_China[df_China['doctype']=='geenstijl.nl']\n",
    "print(\"China  in geenstij in out:\", df_China_geen.shape)\n",
    "\n",
    "df_China_nu = df_China[df_China['doctype']=='nu.nl']\n",
    "print(\"China  in nu in out:\", df_China_nu.shape)"
   ]
  },
  {
   "cell_type": "code",
   "execution_count": 17,
   "metadata": {},
   "outputs": [
    {
     "name": "stdout",
     "output_type": "stream",
     "text": [
      "(6, 18)\n",
      "Vietnam  in geenstij in out: (0, 18)\n",
      "Vietnam  in nu in out: (6, 18)\n",
      "(1, 19)\n",
      "Vietnam  in geenstij in out: (0, 19)\n",
      "Vietnam  in nu in out: (1, 19)\n"
     ]
    }
   ],
   "source": [
    "def filter_Vietnam(df):\n",
    "    list = [r'vietn']\n",
    "    for index, row in df.iterrows():\n",
    "        df.loc[index, 'Vietnam'] = 0\n",
    "        for word in list:\n",
    "            if re.search(word, df.loc[index, 'text']):\n",
    "                df.loc[index, 'Vietnam'] = 1\n",
    "\n",
    "    df = df[df['Vietnam'] == 1]\n",
    "    print(df.shape)\n",
    "    return df\n",
    "\n",
    "#######################################################\n",
    "df = pd.read_csv('filtered_out.csv')\n",
    "df['text'] = df['text'].str.lower()\n",
    "df_Vietnam = filter_Vietnam(df)\n",
    "df_Vietnam_geen = df_Vietnam[df_Vietnam['doctype']=='geenstijl.nl']\n",
    "print(\"Vietnam  in geenstij in out:\", df_Vietnam_geen.shape)\n",
    "\n",
    "df_Vietnam_nu = df_Vietnam[df_Vietnam['doctype']=='nu.nl']\n",
    "print(\"Vietnam  in nu in out:\", df_Vietnam_nu.shape)\n",
    "\n",
    "#######################################################\n",
    "df = pd.read_csv('filtered_outNL.csv')\n",
    "df['text'] = df['text'].str.lower()\n",
    "df_Vietnam = filter_Vietnam(df)\n",
    "df_Vietnam_geen = df_Vietnam[df_Vietnam['doctype']=='geenstijl.nl']\n",
    "print(\"Vietnam  in geenstij in out:\", df_Vietnam_geen.shape)\n",
    "\n",
    "df_Vietnam_nu = df_Vietnam[df_Vietnam['doctype']=='nu.nl']\n",
    "print(\"Vietnam  in nu in out:\", df_Vietnam_nu.shape)"
   ]
  },
  {
   "cell_type": "code",
   "execution_count": 18,
   "metadata": {},
   "outputs": [
    {
     "name": "stdout",
     "output_type": "stream",
     "text": [
      "(5, 18)\n",
      "Philippines  in geenstij in out: (1, 18)\n",
      "Philippines  in nu in out: (4, 18)\n",
      "(1, 19)\n",
      "Philippines  in geenstij in out: (0, 19)\n",
      "Philippines  in nu in out: (1, 19)\n"
     ]
    }
   ],
   "source": [
    "def filter_Philippines(df):\n",
    "    list = [r'filipijn']\n",
    "    for index, row in df.iterrows():\n",
    "        df.loc[index, 'Philippines'] = 0\n",
    "        for word in list:\n",
    "            if re.search(word, df.loc[index, 'text']):\n",
    "                df.loc[index, 'Philippines'] = 1\n",
    "\n",
    "    df = df[df['Philippines'] == 1]\n",
    "    print(df.shape)\n",
    "    return df\n",
    "\n",
    "#######################################################\n",
    "df = pd.read_csv('filtered_out.csv')\n",
    "df['text'] = df['text'].str.lower()\n",
    "df_Philippines = filter_Philippines(df)\n",
    "df_Philippines_geen = df_Philippines[df_Philippines['doctype']=='geenstijl.nl']\n",
    "print(\"Philippines  in geenstij in out:\", df_Philippines_geen.shape)\n",
    "\n",
    "df_Philippines_nu = df_Philippines[df_Philippines['doctype']=='nu.nl']\n",
    "print(\"Philippines  in nu in out:\", df_Philippines_nu.shape)\n",
    "\n",
    "#######################################################\n",
    "df = pd.read_csv('filtered_outNL.csv')\n",
    "df['text'] = df['text'].str.lower()\n",
    "df_Philippines = filter_Philippines(df)\n",
    "df_Philippines_geen = df_Philippines[df_Philippines['doctype']=='geenstijl.nl']\n",
    "print(\"Philippines  in geenstij in out:\", df_Philippines_geen.shape)\n",
    "\n",
    "df_Philippines_nu = df_Philippines[df_Philippines['doctype']=='nu.nl']\n",
    "print(\"Philippines  in nu in out:\", df_Philippines_nu.shape)"
   ]
  },
  {
   "cell_type": "code",
   "execution_count": 19,
   "metadata": {},
   "outputs": [
    {
     "name": "stdout",
     "output_type": "stream",
     "text": [
      "(22, 18)\n",
      "Poland  in geenstij in out: (5, 18)\n",
      "Poland  in nu in out: (17, 18)\n",
      "(17, 19)\n",
      "Poland  in geenstij in out: (5, 19)\n",
      "Poland  in nu in out: (12, 19)\n"
     ]
    }
   ],
   "source": [
    "def filter_Poland(df):\n",
    "    list = [r'polen', 'pools']\n",
    "    for index, row in df.iterrows():\n",
    "        df.loc[index, 'Poland'] = 0\n",
    "        for word in list:\n",
    "            if re.search(word, df.loc[index, 'text']):\n",
    "                df.loc[index, 'Poland'] = 1\n",
    "\n",
    "    df = df[df['Poland'] == 1]\n",
    "    print(df.shape)\n",
    "    return df\n",
    "\n",
    "#######################################################\n",
    "df = pd.read_csv('filtered_out.csv')\n",
    "df['text'] = df['text'].str.lower()\n",
    "df_Poland = filter_Poland(df)\n",
    "df_Poland_geen = df_Poland[df_Poland['doctype']=='geenstijl.nl']\n",
    "print(\"Poland  in geenstij in out:\", df_Poland_geen.shape)\n",
    "\n",
    "df_Poland_nu = df_Poland[df_Poland['doctype']=='nu.nl']\n",
    "print(\"Poland  in nu in out:\", df_Poland_nu.shape)\n",
    "\n",
    "#######################################################\n",
    "df = pd.read_csv('filtered_outNL.csv')\n",
    "df['text'] = df['text'].str.lower()\n",
    "df_Poland = filter_Poland(df)\n",
    "df_Poland_geen = df_Poland[df_Poland['doctype']=='geenstijl.nl']\n",
    "print(\"Poland  in geenstij in out:\", df_Poland_geen.shape)\n",
    "\n",
    "df_Poland_nu = df_Poland[df_Poland['doctype']=='nu.nl']\n",
    "print(\"Poland  in nu in out:\", df_Poland_nu.shape)"
   ]
  },
  {
   "cell_type": "markdown",
   "metadata": {},
   "source": [
    "***************************"
   ]
  },
  {
   "cell_type": "code",
   "execution_count": 58,
   "metadata": {},
   "outputs": [
    {
     "name": "stdout",
     "output_type": "stream",
     "text": [
      "(751, 20)\n",
      "(192, 21)\n",
      "Muslim normalized sentiment in geenstij in out: 0.22363416262297148\n",
      "Muslim negativity sentiment in geenstij in out: 3.55904664008555\n",
      "Muslim normalized sentiment in nu in out: 0.16051541228974828\n",
      "Muslim negativity sentiment in nu in out: 2.77736352708669\n"
     ]
    }
   ],
   "source": [
    "import pandas as pd\n",
    "df = pd.read_csv('filtered_out_negativity_sentiment.csv')\n",
    "# df = pd.read_csv('outNL_negativity_sentiment.csv')\n",
    "\n",
    "print(df.shape)\n",
    "df['text'] = df['text'].str.lower()\n",
    "df_muslim = filter_mos(df)\n",
    "\n",
    "df_muslim_geen = df_muslim[df_muslim['doctype']=='geenstijl.nl']\n",
    "print(\"Muslim normalized sentiment in geenstij in out:\", df_muslim_geen['normalized_score'].mean())\n",
    "print(\"Muslim negativity sentiment in geenstij in out:\", df_muslim_geen['negativity_score'].mean())\n",
    "\n",
    "df_muslim_nu = df_muslim[df_muslim['doctype']=='nu.nl']\n",
    "print(\"Muslim normalized sentiment in nu in out:\", df_muslim_nu['normalized_score'].mean())\n",
    "print(\"Muslim negativity sentiment in nu in out:\", df_muslim_nu['negativity_score'].mean())\n"
   ]
  },
  {
   "cell_type": "code",
   "execution_count": 57,
   "metadata": {},
   "outputs": [
    {
     "name": "stdout",
     "output_type": "stream",
     "text": [
      "(751, 20)\n",
      "(18, 21)\n",
      "eth normalized sentiment in geenstij in out: nan\n",
      "eth negativity sentiment in geenstij in out: nan\n",
      "eth normalized sentiment in nu in out: 0.16364440190821694\n",
      "eth negativity sentiment in nu in out: 2.816113951209365\n"
     ]
    }
   ],
   "source": [
    "df = pd.read_csv('filtered_out_negativity_sentiment.csv')\n",
    "# df = pd.read_csv('outNL_negativity_sentiment.csv')\n",
    "\n",
    "print(df.shape)\n",
    "df['text'] = df['text'].str.lower()\n",
    "df_eth = filter_eth(df)\n",
    "\n",
    "df_eth_geen = df_eth[df_eth['doctype'] == 'geenstijl.nl']\n",
    "print(\"eth normalized sentiment in geenstij in out:\", df_eth_geen['normalized_score'].mean())\n",
    "print(\"eth negativity sentiment in geenstij in out:\", df_eth_geen['negativity_score'].mean())\n",
    "\n",
    "df_eth_nu = df_eth[df_eth['doctype'] == 'nu.nl']\n",
    "print(\"eth normalized sentiment in nu in out:\", df_eth_nu['normalized_score'].mean())\n",
    "print(\"eth negativity sentiment in nu in out:\", df_eth_nu['negativity_score'].mean())\n"
   ]
  },
  {
   "cell_type": "code",
   "execution_count": 55,
   "metadata": {},
   "outputs": [
    {
     "name": "stdout",
     "output_type": "stream",
     "text": [
      "(751, 20)\n",
      "(8, 21)\n",
      "pak normalized sentiment in geenstij in out: 0.20364501730751067\n",
      "pak negativity sentiment in geenstij in out: 3.3114945695219555\n",
      "pak normalized sentiment in nu in out: 0.16116853150061253\n",
      "pak negativity sentiment in nu in out: 2.7854519676089193\n"
     ]
    }
   ],
   "source": [
    "df = pd.read_csv('filtered_out_negativity_sentiment.csv')\n",
    "# df = pd.read_csv('outNL_negativity_sentiment.csv')\n",
    "\n",
    "print(df.shape)\n",
    "df['text'] = df['text'].str.lower()\n",
    "df_pak = filter_pak(df)\n",
    "\n",
    "df_pak_geen = df_pak[df_pak['doctype'] == 'geenstijl.nl']\n",
    "print(\"pak normalized sentiment in geenstij in out:\", df_pak_geen['normalized_score'].mean())\n",
    "print(\"pak negativity sentiment in geenstij in out:\", df_pak_geen['negativity_score'].mean())\n",
    "\n",
    "df_pak_nu = df_pak[df_pak['doctype'] == 'nu.nl']\n",
    "print(\"pak normalized sentiment in nu in out:\", df_pak_nu['normalized_score'].mean())\n",
    "print(\"pak negativity sentiment in nu in out:\", df_pak_nu['negativity_score'].mean())\n"
   ]
  },
  {
   "cell_type": "code",
   "execution_count": 54,
   "metadata": {},
   "outputs": [
    {
     "name": "stdout",
     "output_type": "stream",
     "text": [
      "(751, 20)\n",
      "(13, 21)\n",
      "iraq normalized sentiment in geenstij in out: 0.18488902436922716\n",
      "iraq negativity sentiment in geenstij in out: 3.0792142586796\n",
      "iraq normalized sentiment in nu in out: 0.1583840131909466\n",
      "iraq negativity sentiment in nu in out: 2.7509675881018625\n"
     ]
    }
   ],
   "source": [
    "df = pd.read_csv('filtered_out_negativity_sentiment.csv')\n",
    "# df = pd.read_csv('outNL_negativity_sentiment.csv')\n",
    "\n",
    "print(df.shape)\n",
    "df['text'] = df['text'].str.lower()\n",
    "df_iraq = filter_iraq(df)\n",
    "\n",
    "df_iraq_geen = df_iraq[df_iraq['doctype'] == 'geenstijl.nl']\n",
    "print(\"iraq normalized sentiment in geenstij in out:\", df_iraq_geen['normalized_score'].mean())\n",
    "print(\"iraq negativity sentiment in geenstij in out:\", df_iraq_geen['negativity_score'].mean())\n",
    "\n",
    "df_iraq_nu = df_iraq[df_iraq['doctype'] == 'nu.nl']\n",
    "print(\"iraq normalized sentiment in nu in out:\", df_iraq_nu['normalized_score'].mean())\n",
    "print(\"iraq negativity sentiment in nu in out:\", df_iraq_nu['negativity_score'].mean())\n"
   ]
  },
  {
   "cell_type": "code",
   "execution_count": 53,
   "metadata": {},
   "outputs": [
    {
     "name": "stdout",
     "output_type": "stream",
     "text": [
      "(751, 20)\n",
      "(20, 21)\n",
      "iran normalized sentiment in geenstij in out: 0.3719502775530992\n",
      "iran negativity sentiment in geenstij in out: 5.395841599022734\n",
      "iran normalized sentiment in nu in out: 0.15416914177789962\n",
      "iran negativity sentiment in nu in out: 2.698769251004776\n"
     ]
    }
   ],
   "source": [
    "df = pd.read_csv('filtered_out_negativity_sentiment.csv')\n",
    "# df = pd.read_csv('outNL_negativity_sentiment.csv')\n",
    "\n",
    "print(df.shape)\n",
    "df['text'] = df['text'].str.lower()\n",
    "df_iran = filter_iran(df)\n",
    "\n",
    "df_iran_geen = df_iran[df_iran['doctype'] == 'geenstijl.nl']\n",
    "print(\"iran normalized sentiment in geenstij in out:\", df_iran_geen['normalized_score'].mean())\n",
    "print(\"iran negativity sentiment in geenstij in out:\", df_iran_geen['negativity_score'].mean())\n",
    "\n",
    "df_iran_nu = df_iran[df_iran['doctype'] == 'nu.nl']\n",
    "print(\"iran normalized sentiment in nu in out:\", df_iran_nu['normalized_score'].mean())\n",
    "print(\"iran negativity sentiment in nu in out:\", df_iran_nu['negativity_score'].mean())\n"
   ]
  },
  {
   "cell_type": "code",
   "execution_count": 52,
   "metadata": {
    "scrolled": false
   },
   "outputs": [
    {
     "name": "stdout",
     "output_type": "stream",
     "text": [
      "(751, 20)\n",
      "(27, 21)\n",
      "afgh normalized sentiment in geenstij in out: 0.21086721134354036\n",
      "afgh negativity sentiment in geenstij in out: 3.4009365671369487\n",
      "afgh normalized sentiment in nu in out: 0.16618185402432142\n",
      "afgh negativity sentiment in nu in out: 2.847538582697325\n"
     ]
    }
   ],
   "source": [
    "df = pd.read_csv('filtered_out_negativity_sentiment.csv')\n",
    "# df = pd.read_csv('outNL_negativity_sentiment.csv')\n",
    "\n",
    "print(df.shape)\n",
    "df['text'] = df['text'].str.lower()\n",
    "df_afgh = filter_Afghanistan(df)\n",
    "\n",
    "df_afgh_geen = df_afgh[df_afgh['doctype'] == 'geenstijl.nl']\n",
    "print(\"afgh normalized sentiment in geenstij in out:\", df_afgh_geen['normalized_score'].mean())\n",
    "print(\"afgh negativity sentiment in geenstij in out:\", df_afgh_geen['negativity_score'].mean())\n",
    "\n",
    "df_afgh_nu = df_afgh[df_afgh['doctype'] == 'nu.nl']\n",
    "print(\"afgh normalized sentiment in nu in out:\", df_afgh_nu['normalized_score'].mean())\n",
    "print(\"afgh negativity sentiment in nu in out:\", df_afgh_nu['negativity_score'].mean())\n"
   ]
  },
  {
   "cell_type": "code",
   "execution_count": 51,
   "metadata": {},
   "outputs": [
    {
     "name": "stdout",
     "output_type": "stream",
     "text": [
      "(751, 20)\n",
      "(67, 21)\n",
      "turk normalized sentiment in geenstij in out: 0.2215139524825273\n",
      "turk negativity sentiment in geenstij in out: 3.532789268796598\n",
      "turk normalized sentiment in nu in out: 0.1518142877330159\n",
      "turk negativity sentiment in nu in out: 2.6696059733615276\n"
     ]
    }
   ],
   "source": [
    "df = pd.read_csv('filtered_out_negativity_sentiment.csv')\n",
    "# df = pd.read_csv('outNL_negativity_sentiment.csv')\n",
    "\n",
    "print(df.shape)\n",
    "df['text'] = df['text'].str.lower()\n",
    "df_Turkey = filter_Turkey(df)\n",
    "\n",
    "df_turk_geen = df_Turkey[df_Turkey['doctype'] == 'geenstijl.nl']\n",
    "print(\"turk normalized sentiment in geenstij in out:\", df_turk_geen['normalized_score'].mean())\n",
    "print(\"turk negativity sentiment in geenstij in out:\", df_turk_geen['negativity_score'].mean())\n",
    "\n",
    "df_turk_nu = df_Turkey[df_Turkey['doctype'] == 'nu.nl']\n",
    "print(\"turk normalized sentiment in nu in out:\", df_turk_nu['normalized_score'].mean())\n",
    "print(\"turk negativity sentiment in nu in out:\", df_turk_nu['negativity_score'].mean())\n"
   ]
  },
  {
   "cell_type": "code",
   "execution_count": 50,
   "metadata": {},
   "outputs": [
    {
     "name": "stdout",
     "output_type": "stream",
     "text": [
      "(751, 20)\n",
      "(46, 21)\n",
      "moro normalized sentiment in geenstij in out: 0.23644281589346675\n",
      "moro negativity sentiment in geenstij in out: 3.717673164041517\n",
      "moro normalized sentiment in nu in out: 0.1490673368461162\n",
      "moro negativity sentiment in nu in out: 2.6355868410246095\n"
     ]
    }
   ],
   "source": [
    "df = pd.read_csv('filtered_out_negativity_sentiment.csv')\n",
    "# df = pd.read_csv('outNL_negativity_sentiment.csv')\n",
    "\n",
    "print(df.shape)\n",
    "df['text'] = df['text'].str.lower()\n",
    "df_moro = filter_Morocco(df)\n",
    "\n",
    "df_moro_geen = df_moro[df_moro['doctype'] == 'geenstijl.nl']\n",
    "print(\"moro normalized sentiment in geenstij in out:\", df_moro_geen['normalized_score'].mean())\n",
    "print(\"moro negativity sentiment in geenstij in out:\", df_moro_geen['negativity_score'].mean())\n",
    "\n",
    "df_moro_nu = df_moro[df_moro['doctype'] == 'nu.nl']\n",
    "print(\"moro normalized sentiment in nu in out:\", df_moro_nu['normalized_score'].mean())\n",
    "print(\"moro negativity sentiment in nu in out:\", df_moro_nu['negativity_score'].mean())\n"
   ]
  },
  {
   "cell_type": "code",
   "execution_count": 49,
   "metadata": {},
   "outputs": [
    {
     "name": "stdout",
     "output_type": "stream",
     "text": [
      "(751, 20)\n",
      "(7, 21)\n",
      "indo normalized sentiment in geenstij in out: nan\n",
      "indo negativity sentiment in geenstij in out: nan\n",
      "indo normalized sentiment in nu in out: 0.16324672418574912\n",
      "indo negativity sentiment in nu in out: 2.811188981078813\n"
     ]
    }
   ],
   "source": [
    "df = pd.read_csv('filtered_out_negativity_sentiment.csv')\n",
    "# df = pd.read_csv('outNL_negativity_sentiment.csv')\n",
    "\n",
    "print(df.shape)\n",
    "df['text'] = df['text'].str.lower()\n",
    "df_indo = filter_Indonesia(df)\n",
    "\n",
    "df_indo_geen = df_indo[df_indo['doctype'] == 'geenstijl.nl']\n",
    "print(\"indo normalized sentiment in geenstij in out:\", df_indo_geen['normalized_score'].mean())\n",
    "print(\"indo negativity sentiment in geenstij in out:\", df_indo_geen['negativity_score'].mean())\n",
    "\n",
    "df_indo_nu = df_indo[df_indo['doctype'] == 'nu.nl']\n",
    "print(\"indo normalized sentiment in nu in out:\", df_indo_nu['normalized_score'].mean())\n",
    "print(\"indo negativity sentiment in nu in out:\", df_indo_nu['negativity_score'].mean())\n"
   ]
  },
  {
   "cell_type": "code",
   "execution_count": 48,
   "metadata": {},
   "outputs": [
    {
     "name": "stdout",
     "output_type": "stream",
     "text": [
      "(751, 20)\n",
      "(7, 21)\n",
      "suri normalized sentiment in geenstij in out: 0.2633867402941878\n",
      "suri negativity sentiment in geenstij in out: 4.051355478579922\n",
      "suri normalized sentiment in nu in out: 0.15695844486723418\n",
      "suri negativity sentiment in nu in out: 2.7333128867779433\n"
     ]
    }
   ],
   "source": [
    "df = pd.read_csv('filtered_out_negativity_sentiment.csv')\n",
    "# df = pd.read_csv('outNL_negativity_sentiment.csv')\n",
    "\n",
    "print(df.shape)\n",
    "df['text'] = df['text'].str.lower()\n",
    "df_suri = filter_Suriname(df)\n",
    "\n",
    "df_suri_geen = df_suri[df_suri['doctype'] == 'geenstijl.nl']\n",
    "print(\"suri normalized sentiment in geenstij in out:\", df_suri_geen['normalized_score'].mean())\n",
    "print(\"suri negativity sentiment in geenstij in out:\", df_suri_geen['negativity_score'].mean())\n",
    "\n",
    "df_suri_nu = df_suri[df_suri['doctype'] == 'nu.nl']\n",
    "print(\"suri normalized sentiment in nu in out:\", df_suri_nu['normalized_score'].mean())\n",
    "print(\"suri negativity sentiment in nu in out:\", df_suri_nu['negativity_score'].mean())\n"
   ]
  },
  {
   "cell_type": "code",
   "execution_count": 47,
   "metadata": {},
   "outputs": [
    {
     "name": "stdout",
     "output_type": "stream",
     "text": [
      "(751, 20)\n",
      "(2, 21)\n",
      "DA normalized sentiment in geenstij in out: nan\n",
      "DA negativity sentiment in geenstij in out: nan\n",
      "DA normalized sentiment in nu in out: 0.12990446763275645\n",
      "DA negativity sentiment in nu in out: 2.398267642187357\n"
     ]
    }
   ],
   "source": [
    "df = pd.read_csv('filtered_out_negativity_sentiment.csv')\n",
    "# df = pd.read_csv('outNL_negativity_sentiment.csv')\n",
    "\n",
    "print(df.shape)\n",
    "df['text'] = df['text'].str.lower()\n",
    "df_DA = filter_DutchAntilles(df)\n",
    "\n",
    "df_DA_geen = df_DA[df_DA['doctype'] == 'geenstijl.nl']\n",
    "print(\"DA normalized sentiment in geenstij in out:\", df_DA_geen['normalized_score'].mean())\n",
    "print(\"DA negativity sentiment in geenstij in out:\", df_DA_geen['negativity_score'].mean())\n",
    "\n",
    "df_DA_nu = df_DA[df_DA['doctype'] == 'nu.nl']\n",
    "print(\"DA normalized sentiment in nu in out:\", df_DA_nu['normalized_score'].mean())\n",
    "print(\"DA negativity sentiment in nu in out:\", df_DA_nu['negativity_score'].mean())\n"
   ]
  },
  {
   "cell_type": "code",
   "execution_count": 46,
   "metadata": {},
   "outputs": [
    {
     "name": "stdout",
     "output_type": "stream",
     "text": [
      "(751, 20)\n",
      "(8, 21)\n",
      "soma normalized sentiment in geenstij in out: nan\n",
      "soma negativity sentiment in geenstij in out: nan\n",
      "soma normalized sentiment in nu in out: 0.15284829044060833\n",
      "soma negativity sentiment in nu in out: 2.6824113988658826\n"
     ]
    }
   ],
   "source": [
    "df = pd.read_csv('filtered_out_negativity_sentiment.csv')\n",
    "# df = pd.read_csv('outNL_negativity_sentiment.csv')\n",
    "\n",
    "print(df.shape)\n",
    "df['text'] = df['text'].str.lower()\n",
    "df_soma = filter_Somalia(df)\n",
    "\n",
    "df_soma_geen = df_soma[df_soma['doctype'] == 'geenstijl.nl']\n",
    "print(\"soma normalized sentiment in geenstij in out:\", df_soma_geen['normalized_score'].mean())\n",
    "print(\"soma negativity sentiment in geenstij in out:\", df_soma_geen['negativity_score'].mean())\n",
    "\n",
    "df_soma_nu = df_soma[df_soma['doctype'] == 'nu.nl']\n",
    "print(\"soma normalized sentiment in nu in out:\", df_soma_nu['normalized_score'].mean())\n",
    "print(\"soma negativity sentiment in nu in out:\", df_soma_nu['negativity_score'].mean())\n"
   ]
  },
  {
   "cell_type": "code",
   "execution_count": 45,
   "metadata": {},
   "outputs": [
    {
     "name": "stdout",
     "output_type": "stream",
     "text": [
      "(751, 20)\n",
      "(52, 21)\n",
      "syria normalized sentiment in geenstij in out: 0.24983646718539346\n",
      "syria negativity sentiment in geenstij in out: 3.883544493575488\n",
      "syria normalized sentiment in nu in out: 0.14296688421691706\n",
      "syria negativity sentiment in nu in out: 2.5600368534738513\n"
     ]
    }
   ],
   "source": [
    "df = pd.read_csv('filtered_out_negativity_sentiment.csv')\n",
    "# df = pd.read_csv('outNL_negativity_sentiment.csv')\n",
    "\n",
    "print(df.shape)\n",
    "df['text'] = df['text'].str.lower()\n",
    "df_syria = filter_Syria(df)\n",
    "\n",
    "df_syria_geen = df_syria[df_syria['doctype'] == 'geenstijl.nl']\n",
    "print(\"syria normalized sentiment in geenstij in out:\", df_syria_geen['normalized_score'].mean())\n",
    "print(\"syria negativity sentiment in geenstij in out:\", df_syria_geen['negativity_score'].mean())\n",
    "\n",
    "df_syria_nu = df_syria[df_syria['doctype'] == 'nu.nl']\n",
    "print(\"syria normalized sentiment in nu in out:\", df_syria_nu['normalized_score'].mean())\n",
    "print(\"syria negativity sentiment in nu in out:\", df_syria_nu['negativity_score'].mean())\n"
   ]
  },
  {
   "cell_type": "code",
   "execution_count": 44,
   "metadata": {},
   "outputs": [
    {
     "name": "stdout",
     "output_type": "stream",
     "text": [
      "(751, 20)\n",
      "(3, 21)\n",
      "bulg normalized sentiment in geenstij in out: 0.2100741485627948\n",
      "bulg negativity sentiment in geenstij in out: 3.3911150199741176\n",
      "bulg normalized sentiment in nu in out: 0.15165846231482394\n",
      "bulg negativity sentiment in nu in out: 2.6676761807510334\n"
     ]
    }
   ],
   "source": [
    "df = pd.read_csv('filtered_out_negativity_sentiment.csv')\n",
    "# df = pd.read_csv('outNL_negativity_sentiment.csv')\n",
    "\n",
    "print(df.shape)\n",
    "df['text'] = df['text'].str.lower()\n",
    "df_bulg = filter_Bulgaria(df)\n",
    "\n",
    "df_bulg_geen = df_bulg[df_bulg['doctype'] == 'geenstijl.nl']\n",
    "print(\"bulg normalized sentiment in geenstij in out:\", df_bulg_geen['normalized_score'].mean())\n",
    "print(\"bulg negativity sentiment in geenstij in out:\", df_bulg_geen['negativity_score'].mean())\n",
    "\n",
    "df_bulg_nu = df_bulg[df_bulg['doctype'] == 'nu.nl']\n",
    "print(\"bulg normalized sentiment in nu in out:\", df_bulg_nu['normalized_score'].mean())\n",
    "print(\"bulg negativity sentiment in nu in out:\", df_bulg_nu['negativity_score'].mean())\n"
   ]
  },
  {
   "cell_type": "code",
   "execution_count": 43,
   "metadata": {},
   "outputs": [
    {
     "name": "stdout",
     "output_type": "stream",
     "text": [
      "(751, 20)\n",
      "(47, 21)\n",
      "chin normalized sentiment in geenstij in out: 0.23310373139479987\n",
      "chin negativity sentiment in geenstij in out: 3.6763208566573486\n",
      "chin normalized sentiment in nu in out: 0.18117534576615346\n",
      "chin negativity sentiment in nu in out: 3.0332228561913928\n"
     ]
    }
   ],
   "source": [
    "df = pd.read_csv('filtered_out_negativity_sentiment.csv')\n",
    "# df = pd.read_csv('outNL_negativity_sentiment.csv')\n",
    "\n",
    "print(df.shape)\n",
    "df['text'] = df['text'].str.lower()\n",
    "df_chin = filter_China(df)\n",
    "\n",
    "df_chin_geen = df_chin[df_chin['doctype'] == 'geenstijl.nl']\n",
    "print(\"chin normalized sentiment in geenstij in out:\", df_chin_geen['normalized_score'].mean())\n",
    "print(\"chin negativity sentiment in geenstij in out:\", df_chin_geen['negativity_score'].mean())\n",
    "\n",
    "df_chin_nu = df_chin[df_chin['doctype'] == 'nu.nl']\n",
    "print(\"chin normalized sentiment in nu in out:\", df_chin_nu['normalized_score'].mean())\n",
    "print(\"chin negativity sentiment in nu in out:\", df_chin_nu['negativity_score'].mean())\n"
   ]
  },
  {
   "cell_type": "code",
   "execution_count": 59,
   "metadata": {},
   "outputs": [
    {
     "name": "stdout",
     "output_type": "stream",
     "text": [
      "(751, 20)\n",
      "(6, 21)\n",
      "viet normalized sentiment in geenstij in out: nan\n",
      "viet negativity sentiment in geenstij in out: nan\n",
      "viet normalized sentiment in nu in out: 0.15383622024569435\n",
      "viet negativity sentiment in nu in out: 2.694646242575352\n"
     ]
    }
   ],
   "source": [
    "df = pd.read_csv('filtered_out_negativity_sentiment.csv')\n",
    "# df = pd.read_csv('outNL_negativity_sentiment.csv')\n",
    "\n",
    "print(df.shape)\n",
    "df['text'] = df['text'].str.lower()\n",
    "df_viet = filter_Vietnam(df)\n",
    "\n",
    "df_viet_geen = df_viet[df_viet['doctype'] == 'geenstijl.nl']\n",
    "print(\"viet normalized sentiment in geenstij in out:\", df_viet_geen['normalized_score'].mean())\n",
    "print(\"viet negativity sentiment in geenstij in out:\", df_viet_geen['negativity_score'].mean())\n",
    "\n",
    "df_viet_nu = df_viet[df_viet['doctype'] == 'nu.nl']\n",
    "print(\"viet normalized sentiment in nu in out:\", df_viet_nu['normalized_score'].mean())\n",
    "print(\"viet negativity sentiment in nu in out:\", df_viet_nu['negativity_score'].mean())\n"
   ]
  },
  {
   "cell_type": "code",
   "execution_count": 40,
   "metadata": {},
   "outputs": [
    {
     "name": "stdout",
     "output_type": "stream",
     "text": [
      "(751, 20)\n",
      "(5, 21)\n",
      "phili normalized sentiment in geenstij in out: 0.2116951017868202\n",
      "phili negativity sentiment in geenstij in out: 3.411189431388989\n",
      "phili normalized sentiment in nu in out: 0.14375568318214307\n",
      "phili negativity sentiment in nu in out: 2.569805596159867\n"
     ]
    }
   ],
   "source": [
    "df = pd.read_csv('filtered_out_negativity_sentiment.csv')\n",
    "# df = pd.read_csv('outNL_negativity_sentiment.csv')\n",
    "\n",
    "print(df.shape)\n",
    "df['text'] = df['text'].str.lower()\n",
    "df_phli = filter_Philippines(df)\n",
    "\n",
    "df_phili_geen = df_phli[df_phli['doctype'] == 'geenstijl.nl']\n",
    "print(\"phili normalized sentiment in geenstij in out:\", df_phili_geen['normalized_score'].mean())\n",
    "print(\"phili negativity sentiment in geenstij in out:\", df_phili_geen['negativity_score'].mean())\n",
    "\n",
    "df_phili_nu = df_phli[df_phli['doctype'] == 'nu.nl']\n",
    "print(\"phili normalized sentiment in nu in out:\", df_phili_nu['normalized_score'].mean())\n",
    "print(\"phili negativity sentiment in nu in out:\", df_phili_nu['negativity_score'].mean())\n"
   ]
  },
  {
   "cell_type": "code",
   "execution_count": 39,
   "metadata": {},
   "outputs": [
    {
     "name": "stdout",
     "output_type": "stream",
     "text": [
      "(751, 20)\n",
      "(22, 21)\n",
      "poland normalized sentiment in geenstij in out: 0.26672274328182344\n",
      "poland negativity sentiment in geenstij in out: 4.092669623530222\n",
      "poland normalized sentiment in nu in out: 0.12978370240066564\n",
      "poland negativity sentiment in nu in out: 2.396772046313479\n"
     ]
    }
   ],
   "source": [
    "df = pd.read_csv('filtered_out_negativity_sentiment.csv')\n",
    "# df = pd.read_csv('outNL_negativity_sentiment.csv')\n",
    "\n",
    "print(df.shape)\n",
    "df['text'] = df['text'].str.lower()\n",
    "df_poland = filter_Poland(df)\n",
    "\n",
    "df_poland_geen = df_poland[df_poland['doctype'] == 'geenstijl.nl']\n",
    "print(\"poland normalized sentiment in geenstij in out:\", df_poland_geen['normalized_score'].mean())\n",
    "print(\"poland negativity sentiment in geenstij in out:\", df_poland_geen['negativity_score'].mean())\n",
    "\n",
    "df_poland_nu = df_poland[df_poland['doctype'] == 'nu.nl']\n",
    "print(\"poland normalized sentiment in nu in out:\", df_poland_nu['normalized_score'].mean())\n",
    "print(\"poland negativity sentiment in nu in out:\", df_poland_nu['negativity_score'].mean())\n"
   ]
  },
  {
   "cell_type": "code",
   "execution_count": 116,
   "metadata": {},
   "outputs": [
    {
     "data": {
      "text/plain": [
       "(223, 20)"
      ]
     },
     "execution_count": 116,
     "metadata": {},
     "output_type": "execute_result"
    }
   ],
   "source": [
    "df = pd.read_csv('filtered_out_negativity_sentiment.csv')\n",
    "df_geen = df[df['doctype']=='geenstijl.nl']\n",
    "df_geen.shape"
   ]
  },
  {
   "cell_type": "code",
   "execution_count": 118,
   "metadata": {},
   "outputs": [
    {
     "data": {
      "text/plain": [
       "(528, 20)"
      ]
     },
     "execution_count": 118,
     "metadata": {},
     "output_type": "execute_result"
    }
   ],
   "source": [
    "df_nu = df[df['doctype']=='nu.nl']\n",
    "df_nu.shape"
   ]
  },
  {
   "cell_type": "code",
   "execution_count": 119,
   "metadata": {},
   "outputs": [
    {
     "data": {
      "text/plain": [
       "(128, 21)"
      ]
     },
     "execution_count": 119,
     "metadata": {},
     "output_type": "execute_result"
    }
   ],
   "source": [
    "df = pd.read_csv('outNL_negativity_sentiment.csv')\n",
    "df_geen = df[df['doctype']=='geenstijl.nl']\n",
    "df_geen.shape"
   ]
  },
  {
   "cell_type": "code",
   "execution_count": 120,
   "metadata": {},
   "outputs": [
    {
     "data": {
      "text/plain": [
       "(252, 21)"
      ]
     },
     "execution_count": 120,
     "metadata": {},
     "output_type": "execute_result"
    }
   ],
   "source": [
    "df_nu = df[df['doctype']=='nu.nl']\n",
    "df_nu.shape"
   ]
  },
  {
   "cell_type": "markdown",
   "metadata": {},
   "source": [
    " *********************************************************"
   ]
  },
  {
   "cell_type": "code",
   "execution_count": 32,
   "metadata": {},
   "outputs": [],
   "source": [
    "# ****************************************\n",
    "# Collapsed groups\n",
    "\n",
    "# (1)\tMuslim\n",
    "# (2)\tEthiopia + Pakistan + Iraq + Iran + Afghanistan + Somalia + Syria\n",
    "# (3)\tTurkey + Morocco\n",
    "# (4)\tSuriname + Dutch Antilles + Bulgaria + China + Vietnam + Poland\n"
   ]
  },
  {
   "cell_type": "code",
   "execution_count": 23,
   "metadata": {},
   "outputs": [
    {
     "name": "stdout",
     "output_type": "stream",
     "text": [
      "(110, 18)\n",
      "group2  in geenstij in out: (17, 18)\n",
      "group2  in nu in out: (93, 18)\n",
      "(60, 19)\n",
      "group2  in geenstij in outNL: (8, 19)\n",
      "group2  in nu in outNL: (52, 19)\n"
     ]
    }
   ],
   "source": [
    "def filter_group2(df):\n",
    "    list = [r'irak', 'iraak','ethiop', 'pakista', 'iran',\n",
    "            'iraan', 'afgha', 'somali', 'syri']\n",
    "    for index, row in df.iterrows():\n",
    "        df.loc[index, 'group2'] = 0\n",
    "        for word in list:\n",
    "            if re.search(word, df.loc[index, 'text']):\n",
    "                df.loc[index, 'group2'] = 1\n",
    "\n",
    "    df = df[df['group2'] == 1]\n",
    "    print(df.shape)\n",
    "    return df\n",
    "\n",
    "#######################################################\n",
    "df = pd.read_csv('filtered_out.csv')\n",
    "df['text'] = df['text'].str.lower()\n",
    "df_group2 = filter_group2(df)\n",
    "df_group2_geen = df_group2[df_group2['doctype']=='geenstijl.nl']\n",
    "print(\"group2  in geenstij in out:\", df_group2_geen.shape)\n",
    "\n",
    "df_group2_nu = df_group2[df_group2['doctype']=='nu.nl']\n",
    "print(\"group2  in nu in out:\", df_group2_nu.shape)\n",
    "\n",
    "#######################################################\n",
    "df = pd.read_csv('filtered_outNL.csv')\n",
    "df['text'] = df['text'].str.lower()\n",
    "df_group2 = filter_group2(df)\n",
    "df_group2_geen = df_group2[df_group2['doctype']=='geenstijl.nl']\n",
    "print(\"group2  in geenstij in outNL:\", df_group2_geen.shape)\n",
    "\n",
    "df_group2_nu = df_group2[df_group2['doctype']=='nu.nl']\n",
    "print(\"group2  in nu in outNL:\", df_group2_nu.shape)"
   ]
  },
  {
   "cell_type": "code",
   "execution_count": null,
   "metadata": {},
   "outputs": [],
   "source": []
  },
  {
   "cell_type": "code",
   "execution_count": 24,
   "metadata": {},
   "outputs": [
    {
     "name": "stdout",
     "output_type": "stream",
     "text": [
      "(97, 18)\n",
      "group3  in geenstij in out: (33, 18)\n",
      "group3  in nu in out: (64, 18)\n",
      "(60, 19)\n",
      "group3  in geenstij in outNL: (20, 19)\n",
      "group3  in nu in outNL: (40, 19)\n"
     ]
    }
   ],
   "source": [
    "def filter_group3(df):\n",
    "    list = [r'turk', 'marok']\n",
    "    for index, row in df.iterrows():\n",
    "        df.loc[index, 'group3'] = 0\n",
    "        for word in list:\n",
    "            if re.search(word, df.loc[index, 'text']):\n",
    "                df.loc[index, 'group3'] = 1\n",
    "\n",
    "    df = df[df['group3'] == 1]\n",
    "    print(df.shape)\n",
    "    return df\n",
    "\n",
    "#######################################################\n",
    "df = pd.read_csv('filtered_out.csv')\n",
    "df['text'] = df['text'].str.lower()\n",
    "df_group3 = filter_group3(df)\n",
    "df_group3_geen = df_group3[df_group3['doctype']=='geenstijl.nl']\n",
    "print(\"group3  in geenstij in out:\", df_group3_geen.shape)\n",
    "\n",
    "df_group3_nu = df_group3[df_group3['doctype']=='nu.nl']\n",
    "print(\"group3  in nu in out:\", df_group3_nu.shape)\n",
    "\n",
    "#######################################################\n",
    "df = pd.read_csv('filtered_outNL.csv')\n",
    "df['text'] = df['text'].str.lower()\n",
    "df_group3 = filter_group3(df)\n",
    "df_group3_geen = df_group3[df_group3['doctype']=='geenstijl.nl']\n",
    "print(\"group3  in geenstij in outNL:\", df_group3_geen.shape)\n",
    "\n",
    "df_group3_nu = df_group3[df_group3['doctype']=='nu.nl']\n",
    "print(\"group3  in nu in outNL:\", df_group3_nu.shape)"
   ]
  },
  {
   "cell_type": "code",
   "execution_count": 63,
   "metadata": {},
   "outputs": [
    {
     "name": "stdout",
     "output_type": "stream",
     "text": [
      "(81, 18)\n",
      "group4  in geenstij in out: (18, 18)\n",
      "group4  in nu in out: (63, 18)\n",
      "(53, 19)\n",
      "group4  in geenstij in outNL: (15, 19)\n",
      "group4  in nu in outNL: (38, 19)\n"
     ]
    }
   ],
   "source": [
    "\n",
    "def filter_group4(df):\n",
    "    list = [r'polen', 'pools', 'vietn', 'chine', 'china', 'bulga', 'bonaire', 'sint maarten', 'sint eustatius', \n",
    "           'caribisch nederland', 'antill', 'curaçao', 'aruba', 'saba', 'surin']\n",
    "    for index, row in df.iterrows():\n",
    "        df.loc[index, 'Poland'] = 0\n",
    "        for word in list:\n",
    "            if re.search(word, df.loc[index, 'text']):\n",
    "                df.loc[index, 'Poland'] = 1\n",
    "\n",
    "    df = df[df['Poland'] == 1]\n",
    "    print(df.shape)\n",
    "    return df\n",
    "\n",
    "#######################################################\n",
    "df = pd.read_csv('filtered_out.csv')\n",
    "df['text'] = df['text'].str.lower()\n",
    "df_group4 = filter_group4(df)\n",
    "df_group4_geen = df_group4[df_group4['doctype']=='geenstijl.nl']\n",
    "print(\"group4  in geenstij in out:\", df_group4_geen.shape)\n",
    "\n",
    "df_group4_nu = df_group4[df_group4['doctype']=='nu.nl']\n",
    "print(\"group4  in nu in out:\", df_group4_nu.shape)\n",
    "\n",
    "#######################################################\n",
    "df = pd.read_csv('filtered_outNL.csv')\n",
    "df['text'] = df['text'].str.lower()\n",
    "df_group4 = filter_group4(df)\n",
    "df_group4_geen = df_group4[df_group4['doctype']=='geenstijl.nl']\n",
    "print(\"group4  in geenstij in outNL:\", df_group4_geen.shape)\n",
    "\n",
    "df_group4_nu = df_group4[df_group4['doctype']=='nu.nl']\n",
    "print(\"group4  in nu in outNL:\", df_group4_nu.shape)"
   ]
  },
  {
   "cell_type": "code",
   "execution_count": 62,
   "metadata": {},
   "outputs": [
    {
     "name": "stdout",
     "output_type": "stream",
     "text": [
      "(380, 21)\n",
      "(60, 22)\n",
      "group2 normalized sentiment in geenstij in out: 0.25366510616173377\n",
      "group2 negativity sentiment in geenstij in out: 3.9309596026797515\n",
      "group2 normalized sentiment in nu in out: 0.1524710711771472\n",
      "group2 negativity sentiment in nu in out: 2.6777397929391364\n"
     ]
    }
   ],
   "source": [
    "# df = pd.read_csv('filtered_out_negativity_sentiment.csv')\n",
    "df = pd.read_csv('outNL_negativity_sentiment.csv')\n",
    "\n",
    "print(df.shape)\n",
    "df['text'] = df['text'].str.lower()\n",
    "df_group2 = filter_group2(df)\n",
    "\n",
    "df_group2_geen = df_group2[df_group2['doctype'] == 'geenstijl.nl']\n",
    "print(\"group2 normalized sentiment in geenstij in out:\", df_group2_geen['normalized_score'].mean())\n",
    "print(\"group2 negativity sentiment in geenstij in out:\", df_group2_geen['negativity_score'].mean())\n",
    "\n",
    "df_group2_nu = df_group2[df_group2['doctype'] == 'nu.nl']\n",
    "print(\"group2 normalized sentiment in nu in out:\", df_group2_nu['normalized_score'].mean())\n",
    "print(\"group2 negativity sentiment in nu in out:\", df_group2_nu['negativity_score'].mean())\n"
   ]
  },
  {
   "cell_type": "code",
   "execution_count": 61,
   "metadata": {},
   "outputs": [
    {
     "name": "stdout",
     "output_type": "stream",
     "text": [
      "(380, 21)\n",
      "(60, 22)\n",
      "group3 normalized sentiment in geenstij in out: 0.24071748909906593\n",
      "group3 negativity sentiment in geenstij in out: 3.770612105968681\n",
      "group3 normalized sentiment in nu in out: 0.1464388783265593\n",
      "group3 negativity sentiment in nu in out: 2.603035156666023\n"
     ]
    }
   ],
   "source": [
    "# df = pd.read_csv('filtered_out_negativity_sentiment.csv')\n",
    "df = pd.read_csv('outNL_negativity_sentiment.csv')\n",
    "\n",
    "print(df.shape)\n",
    "df['text'] = df['text'].str.lower()\n",
    "df_group3 = filter_group3(df)\n",
    "\n",
    "df_group3_geen = df_group3[df_group3['doctype'] == 'geenstijl.nl']\n",
    "print(\"group3 normalized sentiment in geenstij in out:\", df_group3_geen['normalized_score'].mean())\n",
    "print(\"group3 negativity sentiment in geenstij in out:\", df_group3_geen['negativity_score'].mean())\n",
    "\n",
    "df_group3_nu = df_group3[df_group3['doctype'] == 'nu.nl']\n",
    "print(\"group3 normalized sentiment in nu in out:\", df_group3_nu['normalized_score'].mean())\n",
    "print(\"group3 negativity sentiment in nu in out:\", df_group3_nu['negativity_score'].mean())\n"
   ]
  },
  {
   "cell_type": "code",
   "execution_count": 60,
   "metadata": {},
   "outputs": [
    {
     "name": "stdout",
     "output_type": "stream",
     "text": [
      "(380, 21)\n",
      "(53, 22)\n",
      "group4 normalized sentiment in geenstij in out: 0.2623159560500625\n",
      "group4 negativity sentiment in geenstij in out: 4.038094538575897\n",
      "group4 normalized sentiment in nu in out: 0.16300983147917777\n",
      "group4 negativity sentiment in nu in out: 2.808255224828224\n"
     ]
    }
   ],
   "source": [
    "# df = pd.read_csv('filtered_out_negativity_sentiment.csv')\n",
    "df = pd.read_csv('outNL_negativity_sentiment.csv')\n",
    "\n",
    "print(df.shape)\n",
    "df['text'] = df['text'].str.lower()\n",
    "df_group4 = filter_group4(df)\n",
    "\n",
    "df_group4_geen = df_group4[df_group4['doctype'] == 'geenstijl.nl']\n",
    "print(\"group4 normalized sentiment in geenstij in out:\", df_group4_geen['normalized_score'].mean())\n",
    "print(\"group4 negativity sentiment in geenstij in out:\", df_group4_geen['negativity_score'].mean())\n",
    "\n",
    "df_group4_nu = df_group4[df_group4['doctype'] == 'nu.nl']\n",
    "print(\"group4 normalized sentiment in nu in out:\", df_group4_nu['normalized_score'].mean())\n",
    "print(\"group4 negativity sentiment in nu in out:\", df_group4_nu['negativity_score'].mean())\n"
   ]
  },
  {
   "cell_type": "code",
   "execution_count": null,
   "metadata": {},
   "outputs": [],
   "source": []
  },
  {
   "cell_type": "code",
   "execution_count": null,
   "metadata": {},
   "outputs": [],
   "source": []
  }
 ],
 "metadata": {
  "hide_input": false,
  "kernelspec": {
   "display_name": "Python 3",
   "language": "python",
   "name": "python3"
  },
  "language_info": {
   "codemirror_mode": {
    "name": "ipython",
    "version": 3
   },
   "file_extension": ".py",
   "mimetype": "text/x-python",
   "name": "python",
   "nbconvert_exporter": "python",
   "pygments_lexer": "ipython3",
   "version": "3.7.3"
  }
 },
 "nbformat": 4,
 "nbformat_minor": 2
}
