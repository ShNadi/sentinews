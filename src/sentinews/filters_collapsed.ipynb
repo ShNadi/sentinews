{
 "cells": [
  {
   "cell_type": "code",
   "execution_count": 1,
   "metadata": {},
   "outputs": [],
   "source": [
    "# ****************************************\n",
    "# Collapsed groups\n",
    "\n",
    "# (1)\tMuslim\n",
    "# (2)\tEthiopia + Pakistan + Iraq + Iran + Afghanistan + Somalia + Syria\n",
    "# (3)\tTurkey + Morocco\n",
    "# (4)\tSuriname + Dutch Antilles + Bulgaria + China + Vietnam + Poland\n"
   ]
  },
  {
   "cell_type": "code",
   "execution_count": 3,
   "metadata": {},
   "outputs": [],
   "source": [
    "import pandas as pd\n",
    "import re"
   ]
  },
  {
   "cell_type": "code",
   "execution_count": 4,
   "metadata": {},
   "outputs": [
    {
     "name": "stdout",
     "output_type": "stream",
     "text": [
      "(110, 18)\n"
     ]
    }
   ],
   "source": [
    "def filter_group2(df):\n",
    "    list = [r'irak', 'iraak','ethiop', 'pakista', 'iran',\n",
    "            'iraan', 'afgha', 'somali', 'syri']\n",
    "    for index, row in df.iterrows():\n",
    "        df.loc[index, 'group2'] = 0\n",
    "        for word in list:\n",
    "            if re.search(word, df.loc[index, 'text']):\n",
    "                df.loc[index, 'group2'] = 1\n",
    "\n",
    "    df = df[df['group2'] == 1]\n",
    "    print(df.shape)\n",
    "    return df\n",
    "\n",
    "#######################################################\n",
    "df = pd.read_csv('filtered_out.csv')\n",
    "df['text'] = df['text'].str.lower()\n",
    "df_group2 = filter_group2(df)\n",
    "# df_group2_geen = df_group2[df_group2['doctype']=='geenstijl.nl']\n",
    "# print(\"group2  in geenstij in out:\", df_group2_geen.shape)\n",
    "\n",
    "# df_group2_nu = df_group2[df_group2['doctype']=='nu.nl']\n",
    "# print(\"group2  in nu in out:\", df_group2_nu.shape)\n",
    "\n",
    "# #######################################################\n",
    "# df = pd.read_csv('filtered_outNL.csv')\n",
    "# df['text'] = df['text'].str.lower()\n",
    "# df_group2 = filter_group2(df)\n",
    "# df_group2_geen = df_group2[df_group2['doctype']=='geenstijl.nl']\n",
    "# print(\"group2  in geenstij in outNL:\", df_group2_geen.shape)\n",
    "\n",
    "# df_group2_nu = df_group2[df_group2['doctype']=='nu.nl']\n",
    "# print(\"group2  in nu in outNL:\", df_group2_nu.shape)"
   ]
  },
  {
   "cell_type": "code",
   "execution_count": 5,
   "metadata": {},
   "outputs": [
    {
     "name": "stdout",
     "output_type": "stream",
     "text": [
      "(110, 18)\n",
      "group3  in geenstij in out: (17, 18)\n",
      "group3  in nu in out: (93, 18)\n",
      "(60, 19)\n",
      "group3  in geenstij in outNL: (8, 19)\n",
      "group3  in nu in outNL: (52, 19)\n"
     ]
    }
   ],
   "source": [
    "def filter_group3(df):\n",
    "    list = [r'irak', 'iraak','ethiop', 'pakista', 'iran',\n",
    "            'iraan', 'afgha', 'somali', 'syri']\n",
    "    for index, row in df.iterrows():\n",
    "        df.loc[index, 'group3'] = 0\n",
    "        for word in list:\n",
    "            if re.search(word, df.loc[index, 'text']):\n",
    "                df.loc[index, 'group3'] = 1\n",
    "\n",
    "    df = df[df['group3'] == 1]\n",
    "    print(df.shape)\n",
    "    return df\n",
    "\n",
    "#######################################################\n",
    "df = pd.read_csv('filtered_out.csv')\n",
    "df['text'] = df['text'].str.lower()\n",
    "df_group3 = filter_group3(df)\n",
    "df_group3_geen = df_group3[df_group3['doctype']=='geenstijl.nl']\n",
    "print(\"group3  in geenstij in out:\", df_group3_geen.shape)\n",
    "\n",
    "df_group3_nu = df_group3[df_group3['doctype']=='nu.nl']\n",
    "print(\"group3  in nu in out:\", df_group3_nu.shape)\n",
    "\n",
    "#######################################################\n",
    "df = pd.read_csv('filtered_outNL.csv')\n",
    "df['text'] = df['text'].str.lower()\n",
    "df_group3 = filter_group3(df)\n",
    "df_group3_geen = df_group3[df_group3['doctype']=='geenstijl.nl']\n",
    "print(\"group3  in geenstij in outNL:\", df_group3_geen.shape)\n",
    "\n",
    "df_group3_nu = df_group3[df_group3['doctype']=='nu.nl']\n",
    "print(\"group3  in nu in outNL:\", df_group3_nu.shape)"
   ]
  },
  {
   "cell_type": "code",
   "execution_count": null,
   "metadata": {},
   "outputs": [],
   "source": []
  }
 ],
 "metadata": {
  "hide_input": false,
  "kernelspec": {
   "display_name": "Python 3",
   "language": "python",
   "name": "python3"
  },
  "language_info": {
   "codemirror_mode": {
    "name": "ipython",
    "version": 3
   },
   "file_extension": ".py",
   "mimetype": "text/x-python",
   "name": "python",
   "nbconvert_exporter": "python",
   "pygments_lexer": "ipython3",
   "version": "3.7.3"
  }
 },
 "nbformat": 4,
 "nbformat_minor": 2
}
